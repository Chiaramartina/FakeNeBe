{
  "cells": [
    {
      "cell_type": "markdown",
      "metadata": {
        "id": "7PJeXRiFDQQ7"
      },
      "source": [
        "#  Classificazione Binaria con DistilBERT e MLP per il LIAR Dataset"
      ]
    },
    {
      "cell_type": "markdown",
      "metadata": {
        "id": "eZe326pyitUg"
      },
      "source": [
        "Implementazione di un classificatore ibrido che combina DistilBERT (una versione efficiente di BERT) con un Multi-Layer Perceptron (MLP) per la\n",
        "classificazione di dichiarazioni come vere o false nel dataset LIAR."
      ]
    },
    {
      "cell_type": "markdown",
      "metadata": {
        "id": "IPhGcq-Qwnvj"
      },
      "source": [
        "## 1. Preprocessing dei Dati\n",
        "Pulizia del testo: Rimozione di URL, menzioni, hashtag e punteggiatura per ridurre il rumore\n",
        "\n",
        "Combinazione testo e metadati: Unisce la dichiarazione con informazioni contestuali (soggetto, oratore, partito, etc.) per fornire più contesto al modello\n",
        "\n",
        "Tokenizzazione: Utilizzo del tokenizer di DistilBERT per preparare il testo per l'input al modello"
      ]
    },
    {
      "cell_type": "code",
      "execution_count": 1,
      "metadata": {
        "id": "s2dIi7M6v5Ng"
      },
      "outputs": [
        {
          "ename": "KeyboardInterrupt",
          "evalue": "",
          "output_type": "error",
          "traceback": [
            "\u001b[0;31m---------------------------------------------------------------------------\u001b[0m",
            "\u001b[0;31mKeyboardInterrupt\u001b[0m                         Traceback (most recent call last)",
            "Cell \u001b[0;32mIn[1], line 2\u001b[0m\n\u001b[1;32m      1\u001b[0m \u001b[38;5;66;03m# 1. Caricamento dati e import iniziali (lasciare tutto come nel tuo codice originale)\u001b[39;00m\n\u001b[0;32m----> 2\u001b[0m \u001b[38;5;28;01mimport\u001b[39;00m \u001b[38;5;21;01mnumpy\u001b[39;00m \u001b[38;5;28;01mas\u001b[39;00m \u001b[38;5;21;01mnp\u001b[39;00m\n\u001b[1;32m      3\u001b[0m \u001b[38;5;28;01mimport\u001b[39;00m \u001b[38;5;21;01mpandas\u001b[39;00m \u001b[38;5;28;01mas\u001b[39;00m \u001b[38;5;21;01mpd\u001b[39;00m\n\u001b[1;32m      4\u001b[0m \u001b[38;5;28;01mimport\u001b[39;00m \u001b[38;5;21;01mtorch\u001b[39;00m\n",
            "File \u001b[0;32m/opt/anaconda3/lib/python3.12/site-packages/numpy/__init__.py:105\u001b[0m\n\u001b[1;32m    102\u001b[0m \u001b[38;5;28;01mimport\u001b[39;00m \u001b[38;5;21;01msys\u001b[39;00m\n\u001b[1;32m    103\u001b[0m \u001b[38;5;28;01mimport\u001b[39;00m \u001b[38;5;21;01mwarnings\u001b[39;00m\n\u001b[0;32m--> 105\u001b[0m \u001b[38;5;28;01mfrom\u001b[39;00m \u001b[38;5;21;01m.\u001b[39;00m\u001b[38;5;21;01m_globals\u001b[39;00m \u001b[38;5;28;01mimport\u001b[39;00m _NoValue, _CopyMode\n\u001b[1;32m    106\u001b[0m \u001b[38;5;66;03m# These exceptions were moved in 1.25 and are hidden from __dir__()\u001b[39;00m\n\u001b[1;32m    107\u001b[0m \u001b[38;5;28;01mfrom\u001b[39;00m \u001b[38;5;21;01m.\u001b[39;00m\u001b[38;5;21;01mexceptions\u001b[39;00m \u001b[38;5;28;01mimport\u001b[39;00m (\n\u001b[1;32m    108\u001b[0m     ComplexWarning, ModuleDeprecationWarning, VisibleDeprecationWarning,\n\u001b[1;32m    109\u001b[0m     TooHardError, AxisError)\n",
            "File \u001b[0;32m/opt/anaconda3/lib/python3.12/site-packages/numpy/_globals.py:20\u001b[0m\n\u001b[1;32m      1\u001b[0m \u001b[38;5;124;03m\"\"\"\u001b[39;00m\n\u001b[1;32m      2\u001b[0m \u001b[38;5;124;03mModule defining global singleton classes.\u001b[39;00m\n\u001b[1;32m      3\u001b[0m \n\u001b[0;32m   (...)\u001b[0m\n\u001b[1;32m     16\u001b[0m \n\u001b[1;32m     17\u001b[0m \u001b[38;5;124;03m\"\"\"\u001b[39;00m\n\u001b[1;32m     18\u001b[0m \u001b[38;5;28;01mimport\u001b[39;00m \u001b[38;5;21;01menum\u001b[39;00m\n\u001b[0;32m---> 20\u001b[0m \u001b[38;5;28;01mfrom\u001b[39;00m \u001b[38;5;21;01m.\u001b[39;00m\u001b[38;5;21;01m_utils\u001b[39;00m \u001b[38;5;28;01mimport\u001b[39;00m set_module \u001b[38;5;28;01mas\u001b[39;00m _set_module\n\u001b[1;32m     22\u001b[0m __all__ \u001b[38;5;241m=\u001b[39m [\u001b[38;5;124m'\u001b[39m\u001b[38;5;124m_NoValue\u001b[39m\u001b[38;5;124m'\u001b[39m, \u001b[38;5;124m'\u001b[39m\u001b[38;5;124m_CopyMode\u001b[39m\u001b[38;5;124m'\u001b[39m]\n\u001b[1;32m     25\u001b[0m \u001b[38;5;66;03m# Disallow reloading this module so as to preserve the identities of the\u001b[39;00m\n\u001b[1;32m     26\u001b[0m \u001b[38;5;66;03m# classes defined here.\u001b[39;00m\n",
            "File \u001b[0;32m<frozen importlib._bootstrap>:1360\u001b[0m, in \u001b[0;36m_find_and_load\u001b[0;34m(name, import_)\u001b[0m\n",
            "File \u001b[0;32m<frozen importlib._bootstrap>:1331\u001b[0m, in \u001b[0;36m_find_and_load_unlocked\u001b[0;34m(name, import_)\u001b[0m\n",
            "File \u001b[0;32m<frozen importlib._bootstrap>:935\u001b[0m, in \u001b[0;36m_load_unlocked\u001b[0;34m(spec)\u001b[0m\n",
            "File \u001b[0;32m<frozen importlib._bootstrap_external>:991\u001b[0m, in \u001b[0;36mexec_module\u001b[0;34m(self, module)\u001b[0m\n",
            "File \u001b[0;32m<frozen importlib._bootstrap_external>:1087\u001b[0m, in \u001b[0;36mget_code\u001b[0;34m(self, fullname)\u001b[0m\n",
            "File \u001b[0;32m<frozen importlib._bootstrap_external>:1186\u001b[0m, in \u001b[0;36mget_data\u001b[0;34m(self, path)\u001b[0m\n",
            "\u001b[0;31mKeyboardInterrupt\u001b[0m: "
          ]
        }
      ],
      "source": [
        "# 1. Caricamento dati e import iniziali (lasciare tutto come nel tuo codice originale)\n",
        "import numpy as np\n",
        "import pandas as pd\n",
        "import torch\n",
        "from sklearn.preprocessing import MinMaxScaler\n",
        "from torch.utils.data import TensorDataset, DataLoader\n"
      ]
    },
    {
      "cell_type": "code",
      "execution_count": 50,
      "metadata": {
        "id": "CdoCWw7Yv9LV"
      },
      "outputs": [],
      "source": [
        "# 2. Caricamento dataset (come nel tuo codice originale)\n",
        "col_names = ['ID', 'label', 'statement', 'subject', 'speaker', 'speaker\\'s title', 'state', 'party', 'barely true', 'false', 'half true', 'mostly true', 'pants on fire', 'context', 'justification']\n",
        "train_df = pd.read_csv('data/train2_clean.tsv', sep='\\t', names=col_names)\n",
        "test_df = pd.read_csv('data/test2_clean.tsv', sep='\\t', names=col_names)\n",
        "val_df = pd.read_csv('data/val2_clean.tsv', sep='\\t', names=col_names)\n",
        "\n",
        "# Pulizia dati\n",
        "train_df = train_df.fillna(0)\n",
        "test_df = test_df.fillna(0)\n",
        "val_df = val_df.fillna(0)"
      ]
    },
    {
      "cell_type": "code",
      "execution_count": 51,
      "metadata": {
        "colab": {
          "base_uri": "https://localhost:8080/",
          "height": 808
        },
        "id": "mWe_hmTGXrHQ",
        "outputId": "414c9241-ede5-43d3-b173-76c36f05ee48"
      },
      "outputs": [
        {
          "data": {
            "application/vnd.google.colaboratory.intrinsic+json": {
              "summary": "{\n  \"name\": \"train_df\",\n  \"rows\": 10240,\n  \"fields\": [\n    {\n      \"column\": \"ID\",\n      \"properties\": {\n        \"dtype\": \"string\",\n        \"num_unique_values\": 10240,\n        \"samples\": [\n          \"10626.json\",\n          \"1520.json\",\n          \"1326.json\"\n        ],\n        \"semantic_type\": \"\",\n        \"description\": \"\"\n      }\n    },\n    {\n      \"column\": \"label\",\n      \"properties\": {\n        \"dtype\": \"category\",\n        \"num_unique_values\": 6,\n        \"samples\": [\n          \"false\",\n          \"half-true\",\n          \"pants-fire\"\n        ],\n        \"semantic_type\": \"\",\n        \"description\": \"\"\n      }\n    },\n    {\n      \"column\": \"statement\",\n      \"properties\": {\n        \"dtype\": \"string\",\n        \"num_unique_values\": 10223,\n        \"samples\": [\n          \"Countries bombed: Obama 7, Bush 4\",\n          \"Says she couldn't take stimulus money because it required \\\"universal building codes.\\\"\",\n          \"In the past decade, K-12 funding has grown six times faster than the rate of enrollment.\"\n        ],\n        \"semantic_type\": \"\",\n        \"description\": \"\"\n      }\n    },\n    {\n      \"column\": \"subject\",\n      \"properties\": {\n        \"dtype\": \"category\",\n        \"num_unique_values\": 3828,\n        \"samples\": [\n          \"homeland-security,military,patriotism,states\",\n          \"city-budget,city-government,county-budget,county-government,taxes\",\n          \"corrections-and-updates,homeland-security,immigration,transportation\"\n        ],\n        \"semantic_type\": \"\",\n        \"description\": \"\"\n      }\n    },\n    {\n      \"column\": \"speaker\",\n      \"properties\": {\n        \"dtype\": \"category\",\n        \"num_unique_values\": 2911,\n        \"samples\": [\n          \"james-bennett\",\n          \"jerry-jones\",\n          \"al-cardenas\"\n        ],\n        \"semantic_type\": \"\",\n        \"description\": \"\"\n      }\n    },\n    {\n      \"column\": \"speaker's title\",\n      \"properties\": {\n        \"dtype\": \"category\",\n        \"num_unique_values\": 1184,\n        \"samples\": [\n          \"Editorial director, Huffington Post\",\n          \"El Paso County Commissioner \",\n          \"NFL Network analyst\"\n        ],\n        \"semantic_type\": \"\",\n        \"description\": \"\"\n      }\n    },\n    {\n      \"column\": \"state\",\n      \"properties\": {\n        \"dtype\": \"category\",\n        \"num_unique_values\": 84,\n        \"samples\": [\n          \"Virginia director, Coalition to Stop Gun Violence\",\n          \"Texas\",\n          \"Unknown\"\n        ],\n        \"semantic_type\": \"\",\n        \"description\": \"\"\n      }\n    },\n    {\n      \"column\": \"party\",\n      \"properties\": {\n        \"dtype\": \"category\",\n        \"num_unique_values\": 24,\n        \"samples\": [\n          \"libertarian\",\n          0,\n          \"republican\"\n        ],\n        \"semantic_type\": \"\",\n        \"description\": \"\"\n      }\n    },\n    {\n      \"column\": \"barely true\",\n      \"properties\": {\n        \"dtype\": \"number\",\n        \"std\": 18.97259574383102,\n        \"min\": 0.0,\n        \"max\": 70.0,\n        \"num_unique_values\": 30,\n        \"samples\": [\n          8.0,\n          13.0,\n          26.0\n        ],\n        \"semantic_type\": \"\",\n        \"description\": \"\"\n      }\n    },\n    {\n      \"column\": \"false\",\n      \"properties\": {\n        \"dtype\": \"number\",\n        \"std\": 24.111296091454296,\n        \"min\": 0.0,\n        \"max\": 114.0,\n        \"num_unique_values\": 30,\n        \"samples\": [\n          18.0,\n          43.0,\n          11.0\n        ],\n        \"semantic_type\": \"\",\n        \"description\": \"\"\n      }\n    },\n    {\n      \"column\": \"half true\",\n      \"properties\": {\n        \"dtype\": \"number\",\n        \"std\": 35.8438095755754,\n        \"min\": 0.0,\n        \"max\": 160.0,\n        \"num_unique_values\": 29,\n        \"samples\": [\n          12.0,\n          7.0,\n          38.0\n        ],\n        \"semantic_type\": \"\",\n        \"description\": \"\"\n      }\n    },\n    {\n      \"column\": \"mostly true\",\n      \"properties\": {\n        \"dtype\": \"number\",\n        \"std\": 36.14888654844411,\n        \"min\": 0.0,\n        \"max\": 163.0,\n        \"num_unique_values\": 27,\n        \"samples\": [\n          4.0,\n          6.0,\n          2.0\n        ],\n        \"semantic_type\": \"\",\n        \"description\": \"\"\n      }\n    },\n    {\n      \"column\": \"pants on fire\",\n      \"properties\": {\n        \"dtype\": \"number\",\n        \"std\": 16.12758487822142,\n        \"min\": 0.0,\n        \"max\": 105.0,\n        \"num_unique_values\": 20,\n        \"samples\": [\n          0.0,\n          6.0,\n          10.0\n        ],\n        \"semantic_type\": \"\",\n        \"description\": \"\"\n      }\n    },\n    {\n      \"column\": \"context\",\n      \"properties\": {\n        \"dtype\": \"category\",\n        \"num_unique_values\": 4346,\n        \"samples\": [\n          \"a series of campaign TV ads\",\n          \"remarks at a campaign fundraiser\",\n          \"an interview on Rhode Island Public Radio\"\n        ],\n        \"semantic_type\": \"\",\n        \"description\": \"\"\n      }\n    },\n    {\n      \"column\": \"justification\",\n      \"properties\": {\n        \"dtype\": \"string\",\n        \"num_unique_values\": 10146,\n        \"samples\": [\n          \"Poe said \\\"the costly medical device tax\\\" in the Obamacare law \\\"has led to the loss of thousands of jobs across the nation. \\\"News stories indicate more than 2,000 such cuts were planned or made partly because of the tax. An industry analyst has said that \\\"the tax is costing the industry thousands of jobs,\\\" but also told us that \\\"it's nearly impossible to determine if the tax alone was the cause of layoffs.\",\n          \"Legislators, prosecutors and victims advocates gave Deal fair warning that they would wage war if he didn't back off. Still, Deal pursued the change until public protest reached a fevered pitch. And while he didn't fight to help rapists or hurt victims, he invested his political capital as second-in-command in the state Senate on behalf of a law that weakened the rape shield act.\",\n          \"The general contours of the ad are accurate. As attorney general, Cortez Masto entered into a contingency-fee contract with Cohen Milstein for outside counsel on lawsuits filed against companies involved in the foreclosure crisis. She then received campaign contributions amounting to $2,650from at least six lawyers at the firm  technically thisis \\\"thousands,\\\" but the ad's vague language overplays the scale of those donations compared to her total haul. We take issue with the ad's \\\"sweetheart\\\" description of the deal, as the firm was chosen through a bidding process that was reviewed and approved externally. Lost in the ad is howthe extra help was sought amid budget cuts at the Attorney General's office, and Nevada benefited from the lawsuits.\"\n        ],\n        \"semantic_type\": \"\",\n        \"description\": \"\"\n      }\n    }\n  ]\n}",
              "type": "dataframe",
              "variable_name": "train_df"
            },
            "text/html": [
              "\n",
              "  <div id=\"df-b6d95a57-2e84-4bb4-8952-4e7b01a9c5e8\" class=\"colab-df-container\">\n",
              "    <div>\n",
              "<style scoped>\n",
              "    .dataframe tbody tr th:only-of-type {\n",
              "        vertical-align: middle;\n",
              "    }\n",
              "\n",
              "    .dataframe tbody tr th {\n",
              "        vertical-align: top;\n",
              "    }\n",
              "\n",
              "    .dataframe thead th {\n",
              "        text-align: right;\n",
              "    }\n",
              "</style>\n",
              "<table border=\"1\" class=\"dataframe\">\n",
              "  <thead>\n",
              "    <tr style=\"text-align: right;\">\n",
              "      <th></th>\n",
              "      <th>ID</th>\n",
              "      <th>label</th>\n",
              "      <th>statement</th>\n",
              "      <th>subject</th>\n",
              "      <th>speaker</th>\n",
              "      <th>speaker's title</th>\n",
              "      <th>state</th>\n",
              "      <th>party</th>\n",
              "      <th>barely true</th>\n",
              "      <th>false</th>\n",
              "      <th>half true</th>\n",
              "      <th>mostly true</th>\n",
              "      <th>pants on fire</th>\n",
              "      <th>context</th>\n",
              "      <th>justification</th>\n",
              "    </tr>\n",
              "  </thead>\n",
              "  <tbody>\n",
              "    <tr>\n",
              "      <th>0</th>\n",
              "      <td>2635.json</td>\n",
              "      <td>false</td>\n",
              "      <td>Says the Annies List political group supports ...</td>\n",
              "      <td>abortion</td>\n",
              "      <td>dwayne-bohac</td>\n",
              "      <td>State representative</td>\n",
              "      <td>Texas</td>\n",
              "      <td>republican</td>\n",
              "      <td>0.0</td>\n",
              "      <td>1.0</td>\n",
              "      <td>0.0</td>\n",
              "      <td>0.0</td>\n",
              "      <td>0.0</td>\n",
              "      <td>a mailer</td>\n",
              "      <td>That's a premise that he fails to back up. Ann...</td>\n",
              "    </tr>\n",
              "    <tr>\n",
              "      <th>1</th>\n",
              "      <td>10540.json</td>\n",
              "      <td>half-true</td>\n",
              "      <td>When did the decline of coal start? It started...</td>\n",
              "      <td>energy,history,job-accomplishments</td>\n",
              "      <td>scott-surovell</td>\n",
              "      <td>State delegate</td>\n",
              "      <td>Virginia</td>\n",
              "      <td>democrat</td>\n",
              "      <td>0.0</td>\n",
              "      <td>0.0</td>\n",
              "      <td>1.0</td>\n",
              "      <td>1.0</td>\n",
              "      <td>0.0</td>\n",
              "      <td>a floor speech.</td>\n",
              "      <td>Surovell said the decline of coal \"started whe...</td>\n",
              "    </tr>\n",
              "    <tr>\n",
              "      <th>2</th>\n",
              "      <td>324.json</td>\n",
              "      <td>mostly-true</td>\n",
              "      <td>Hillary Clinton agrees with John McCain \"by vo...</td>\n",
              "      <td>foreign-policy</td>\n",
              "      <td>barack-obama</td>\n",
              "      <td>President</td>\n",
              "      <td>Illinois</td>\n",
              "      <td>democrat</td>\n",
              "      <td>70.0</td>\n",
              "      <td>71.0</td>\n",
              "      <td>160.0</td>\n",
              "      <td>163.0</td>\n",
              "      <td>9.0</td>\n",
              "      <td>Denver</td>\n",
              "      <td>Obama said he would have voted against the ame...</td>\n",
              "    </tr>\n",
              "    <tr>\n",
              "      <th>3</th>\n",
              "      <td>1123.json</td>\n",
              "      <td>false</td>\n",
              "      <td>Health care reform legislation is likely to ma...</td>\n",
              "      <td>health-care</td>\n",
              "      <td>blog-posting</td>\n",
              "      <td>0</td>\n",
              "      <td>0</td>\n",
              "      <td>none</td>\n",
              "      <td>7.0</td>\n",
              "      <td>19.0</td>\n",
              "      <td>3.0</td>\n",
              "      <td>5.0</td>\n",
              "      <td>44.0</td>\n",
              "      <td>a news release</td>\n",
              "      <td>The release may have a point that Mikulskis co...</td>\n",
              "    </tr>\n",
              "    <tr>\n",
              "      <th>4</th>\n",
              "      <td>9028.json</td>\n",
              "      <td>half-true</td>\n",
              "      <td>The economic turnaround started at the end of ...</td>\n",
              "      <td>economy,jobs</td>\n",
              "      <td>charlie-crist</td>\n",
              "      <td>0</td>\n",
              "      <td>Florida</td>\n",
              "      <td>democrat</td>\n",
              "      <td>15.0</td>\n",
              "      <td>9.0</td>\n",
              "      <td>20.0</td>\n",
              "      <td>19.0</td>\n",
              "      <td>2.0</td>\n",
              "      <td>an interview on CNN</td>\n",
              "      <td>Crist said that the economic \"turnaround start...</td>\n",
              "    </tr>\n",
              "  </tbody>\n",
              "</table>\n",
              "</div>\n",
              "    <div class=\"colab-df-buttons\">\n",
              "\n",
              "  <div class=\"colab-df-container\">\n",
              "    <button class=\"colab-df-convert\" onclick=\"convertToInteractive('df-b6d95a57-2e84-4bb4-8952-4e7b01a9c5e8')\"\n",
              "            title=\"Convert this dataframe to an interactive table.\"\n",
              "            style=\"display:none;\">\n",
              "\n",
              "  <svg xmlns=\"http://www.w3.org/2000/svg\" height=\"24px\" viewBox=\"0 -960 960 960\">\n",
              "    <path d=\"M120-120v-720h720v720H120Zm60-500h600v-160H180v160Zm220 220h160v-160H400v160Zm0 220h160v-160H400v160ZM180-400h160v-160H180v160Zm440 0h160v-160H620v160ZM180-180h160v-160H180v160Zm440 0h160v-160H620v160Z\"/>\n",
              "  </svg>\n",
              "    </button>\n",
              "\n",
              "  <style>\n",
              "    .colab-df-container {\n",
              "      display:flex;\n",
              "      gap: 12px;\n",
              "    }\n",
              "\n",
              "    .colab-df-convert {\n",
              "      background-color: #E8F0FE;\n",
              "      border: none;\n",
              "      border-radius: 50%;\n",
              "      cursor: pointer;\n",
              "      display: none;\n",
              "      fill: #1967D2;\n",
              "      height: 32px;\n",
              "      padding: 0 0 0 0;\n",
              "      width: 32px;\n",
              "    }\n",
              "\n",
              "    .colab-df-convert:hover {\n",
              "      background-color: #E2EBFA;\n",
              "      box-shadow: 0px 1px 2px rgba(60, 64, 67, 0.3), 0px 1px 3px 1px rgba(60, 64, 67, 0.15);\n",
              "      fill: #174EA6;\n",
              "    }\n",
              "\n",
              "    .colab-df-buttons div {\n",
              "      margin-bottom: 4px;\n",
              "    }\n",
              "\n",
              "    [theme=dark] .colab-df-convert {\n",
              "      background-color: #3B4455;\n",
              "      fill: #D2E3FC;\n",
              "    }\n",
              "\n",
              "    [theme=dark] .colab-df-convert:hover {\n",
              "      background-color: #434B5C;\n",
              "      box-shadow: 0px 1px 3px 1px rgba(0, 0, 0, 0.15);\n",
              "      filter: drop-shadow(0px 1px 2px rgba(0, 0, 0, 0.3));\n",
              "      fill: #FFFFFF;\n",
              "    }\n",
              "  </style>\n",
              "\n",
              "    <script>\n",
              "      const buttonEl =\n",
              "        document.querySelector('#df-b6d95a57-2e84-4bb4-8952-4e7b01a9c5e8 button.colab-df-convert');\n",
              "      buttonEl.style.display =\n",
              "        google.colab.kernel.accessAllowed ? 'block' : 'none';\n",
              "\n",
              "      async function convertToInteractive(key) {\n",
              "        const element = document.querySelector('#df-b6d95a57-2e84-4bb4-8952-4e7b01a9c5e8');\n",
              "        const dataTable =\n",
              "          await google.colab.kernel.invokeFunction('convertToInteractive',\n",
              "                                                    [key], {});\n",
              "        if (!dataTable) return;\n",
              "\n",
              "        const docLinkHtml = 'Like what you see? Visit the ' +\n",
              "          '<a target=\"_blank\" href=https://colab.research.google.com/notebooks/data_table.ipynb>data table notebook</a>'\n",
              "          + ' to learn more about interactive tables.';\n",
              "        element.innerHTML = '';\n",
              "        dataTable['output_type'] = 'display_data';\n",
              "        await google.colab.output.renderOutput(dataTable, element);\n",
              "        const docLink = document.createElement('div');\n",
              "        docLink.innerHTML = docLinkHtml;\n",
              "        element.appendChild(docLink);\n",
              "      }\n",
              "    </script>\n",
              "  </div>\n",
              "\n",
              "\n",
              "    <div id=\"df-c9238e59-cf1e-436d-875d-f192095a32b4\">\n",
              "      <button class=\"colab-df-quickchart\" onclick=\"quickchart('df-c9238e59-cf1e-436d-875d-f192095a32b4')\"\n",
              "                title=\"Suggest charts\"\n",
              "                style=\"display:none;\">\n",
              "\n",
              "<svg xmlns=\"http://www.w3.org/2000/svg\" height=\"24px\"viewBox=\"0 0 24 24\"\n",
              "     width=\"24px\">\n",
              "    <g>\n",
              "        <path d=\"M19 3H5c-1.1 0-2 .9-2 2v14c0 1.1.9 2 2 2h14c1.1 0 2-.9 2-2V5c0-1.1-.9-2-2-2zM9 17H7v-7h2v7zm4 0h-2V7h2v10zm4 0h-2v-4h2v4z\"/>\n",
              "    </g>\n",
              "</svg>\n",
              "      </button>\n",
              "\n",
              "<style>\n",
              "  .colab-df-quickchart {\n",
              "      --bg-color: #E8F0FE;\n",
              "      --fill-color: #1967D2;\n",
              "      --hover-bg-color: #E2EBFA;\n",
              "      --hover-fill-color: #174EA6;\n",
              "      --disabled-fill-color: #AAA;\n",
              "      --disabled-bg-color: #DDD;\n",
              "  }\n",
              "\n",
              "  [theme=dark] .colab-df-quickchart {\n",
              "      --bg-color: #3B4455;\n",
              "      --fill-color: #D2E3FC;\n",
              "      --hover-bg-color: #434B5C;\n",
              "      --hover-fill-color: #FFFFFF;\n",
              "      --disabled-bg-color: #3B4455;\n",
              "      --disabled-fill-color: #666;\n",
              "  }\n",
              "\n",
              "  .colab-df-quickchart {\n",
              "    background-color: var(--bg-color);\n",
              "    border: none;\n",
              "    border-radius: 50%;\n",
              "    cursor: pointer;\n",
              "    display: none;\n",
              "    fill: var(--fill-color);\n",
              "    height: 32px;\n",
              "    padding: 0;\n",
              "    width: 32px;\n",
              "  }\n",
              "\n",
              "  .colab-df-quickchart:hover {\n",
              "    background-color: var(--hover-bg-color);\n",
              "    box-shadow: 0 1px 2px rgba(60, 64, 67, 0.3), 0 1px 3px 1px rgba(60, 64, 67, 0.15);\n",
              "    fill: var(--button-hover-fill-color);\n",
              "  }\n",
              "\n",
              "  .colab-df-quickchart-complete:disabled,\n",
              "  .colab-df-quickchart-complete:disabled:hover {\n",
              "    background-color: var(--disabled-bg-color);\n",
              "    fill: var(--disabled-fill-color);\n",
              "    box-shadow: none;\n",
              "  }\n",
              "\n",
              "  .colab-df-spinner {\n",
              "    border: 2px solid var(--fill-color);\n",
              "    border-color: transparent;\n",
              "    border-bottom-color: var(--fill-color);\n",
              "    animation:\n",
              "      spin 1s steps(1) infinite;\n",
              "  }\n",
              "\n",
              "  @keyframes spin {\n",
              "    0% {\n",
              "      border-color: transparent;\n",
              "      border-bottom-color: var(--fill-color);\n",
              "      border-left-color: var(--fill-color);\n",
              "    }\n",
              "    20% {\n",
              "      border-color: transparent;\n",
              "      border-left-color: var(--fill-color);\n",
              "      border-top-color: var(--fill-color);\n",
              "    }\n",
              "    30% {\n",
              "      border-color: transparent;\n",
              "      border-left-color: var(--fill-color);\n",
              "      border-top-color: var(--fill-color);\n",
              "      border-right-color: var(--fill-color);\n",
              "    }\n",
              "    40% {\n",
              "      border-color: transparent;\n",
              "      border-right-color: var(--fill-color);\n",
              "      border-top-color: var(--fill-color);\n",
              "    }\n",
              "    60% {\n",
              "      border-color: transparent;\n",
              "      border-right-color: var(--fill-color);\n",
              "    }\n",
              "    80% {\n",
              "      border-color: transparent;\n",
              "      border-right-color: var(--fill-color);\n",
              "      border-bottom-color: var(--fill-color);\n",
              "    }\n",
              "    90% {\n",
              "      border-color: transparent;\n",
              "      border-bottom-color: var(--fill-color);\n",
              "    }\n",
              "  }\n",
              "</style>\n",
              "\n",
              "      <script>\n",
              "        async function quickchart(key) {\n",
              "          const quickchartButtonEl =\n",
              "            document.querySelector('#' + key + ' button');\n",
              "          quickchartButtonEl.disabled = true;  // To prevent multiple clicks.\n",
              "          quickchartButtonEl.classList.add('colab-df-spinner');\n",
              "          try {\n",
              "            const charts = await google.colab.kernel.invokeFunction(\n",
              "                'suggestCharts', [key], {});\n",
              "          } catch (error) {\n",
              "            console.error('Error during call to suggestCharts:', error);\n",
              "          }\n",
              "          quickchartButtonEl.classList.remove('colab-df-spinner');\n",
              "          quickchartButtonEl.classList.add('colab-df-quickchart-complete');\n",
              "        }\n",
              "        (() => {\n",
              "          let quickchartButtonEl =\n",
              "            document.querySelector('#df-c9238e59-cf1e-436d-875d-f192095a32b4 button');\n",
              "          quickchartButtonEl.style.display =\n",
              "            google.colab.kernel.accessAllowed ? 'block' : 'none';\n",
              "        })();\n",
              "      </script>\n",
              "    </div>\n",
              "\n",
              "    </div>\n",
              "  </div>\n"
            ],
            "text/plain": [
              "           ID        label                                          statement  \\\n",
              "0   2635.json        false  Says the Annies List political group supports ...   \n",
              "1  10540.json    half-true  When did the decline of coal start? It started...   \n",
              "2    324.json  mostly-true  Hillary Clinton agrees with John McCain \"by vo...   \n",
              "3   1123.json        false  Health care reform legislation is likely to ma...   \n",
              "4   9028.json    half-true  The economic turnaround started at the end of ...   \n",
              "\n",
              "                              subject         speaker       speaker's title  \\\n",
              "0                            abortion    dwayne-bohac  State representative   \n",
              "1  energy,history,job-accomplishments  scott-surovell        State delegate   \n",
              "2                      foreign-policy    barack-obama             President   \n",
              "3                         health-care    blog-posting                     0   \n",
              "4                        economy,jobs   charlie-crist                     0   \n",
              "\n",
              "      state       party  barely true  false  half true  mostly true  \\\n",
              "0     Texas  republican          0.0    1.0        0.0          0.0   \n",
              "1  Virginia    democrat          0.0    0.0        1.0          1.0   \n",
              "2  Illinois    democrat         70.0   71.0      160.0        163.0   \n",
              "3         0        none          7.0   19.0        3.0          5.0   \n",
              "4   Florida    democrat         15.0    9.0       20.0         19.0   \n",
              "\n",
              "   pants on fire              context  \\\n",
              "0            0.0             a mailer   \n",
              "1            0.0      a floor speech.   \n",
              "2            9.0               Denver   \n",
              "3           44.0       a news release   \n",
              "4            2.0  an interview on CNN   \n",
              "\n",
              "                                       justification  \n",
              "0  That's a premise that he fails to back up. Ann...  \n",
              "1  Surovell said the decline of coal \"started whe...  \n",
              "2  Obama said he would have voted against the ame...  \n",
              "3  The release may have a point that Mikulskis co...  \n",
              "4  Crist said that the economic \"turnaround start...  "
            ]
          },
          "execution_count": 51,
          "metadata": {},
          "output_type": "execute_result"
        }
      ],
      "source": [
        "train_df.head()"
      ]
    },
    {
      "cell_type": "code",
      "execution_count": 52,
      "metadata": {
        "colab": {
          "base_uri": "https://localhost:8080/",
          "height": 384
        },
        "id": "-TGRGYHVXtkA",
        "outputId": "ce7d9fc2-5aba-41a8-8801-92d549493953"
      },
      "outputs": [
        {
          "data": {
            "text/html": [
              "<div>\n",
              "<style scoped>\n",
              "    .dataframe tbody tr th:only-of-type {\n",
              "        vertical-align: middle;\n",
              "    }\n",
              "\n",
              "    .dataframe tbody tr th {\n",
              "        vertical-align: top;\n",
              "    }\n",
              "\n",
              "    .dataframe thead th {\n",
              "        text-align: right;\n",
              "    }\n",
              "</style>\n",
              "<table border=\"1\" class=\"dataframe\">\n",
              "  <thead>\n",
              "    <tr style=\"text-align: right;\">\n",
              "      <th></th>\n",
              "      <th>count</th>\n",
              "    </tr>\n",
              "    <tr>\n",
              "      <th>label</th>\n",
              "      <th></th>\n",
              "    </tr>\n",
              "  </thead>\n",
              "  <tbody>\n",
              "    <tr>\n",
              "      <th>half-true</th>\n",
              "      <td>2114</td>\n",
              "    </tr>\n",
              "    <tr>\n",
              "      <th>false</th>\n",
              "      <td>1995</td>\n",
              "    </tr>\n",
              "    <tr>\n",
              "      <th>mostly-true</th>\n",
              "      <td>1962</td>\n",
              "    </tr>\n",
              "    <tr>\n",
              "      <th>true</th>\n",
              "      <td>1676</td>\n",
              "    </tr>\n",
              "    <tr>\n",
              "      <th>barely-true</th>\n",
              "      <td>1654</td>\n",
              "    </tr>\n",
              "    <tr>\n",
              "      <th>pants-fire</th>\n",
              "      <td>839</td>\n",
              "    </tr>\n",
              "  </tbody>\n",
              "</table>\n",
              "</div><br><label><b>dtype:</b> int64</label>"
            ],
            "text/plain": [
              "label\n",
              "half-true      2114\n",
              "false          1995\n",
              "mostly-true    1962\n",
              "true           1676\n",
              "barely-true    1654\n",
              "pants-fire      839\n",
              "Name: count, dtype: int64"
            ]
          },
          "execution_count": 52,
          "metadata": {},
          "output_type": "execute_result"
        }
      ],
      "source": [
        "train_df['label'].value_counts()"
      ]
    },
    {
      "cell_type": "code",
      "execution_count": 53,
      "metadata": {
        "colab": {
          "base_uri": "https://localhost:8080/"
        },
        "id": "qDIksClWXvTN",
        "outputId": "8f86e6fb-2b6b-437f-df3d-e711eb8c6c59"
      },
      "outputs": [
        {
          "name": "stdout",
          "output_type": "stream",
          "text": [
            "Number of datapoints are 10240\n",
            "Shape of df is (10240, 15)\n",
            "<class 'pandas.core.frame.DataFrame'>\n",
            "RangeIndex: 10240 entries, 0 to 10239\n",
            "Data columns (total 15 columns):\n",
            " #   Column           Non-Null Count  Dtype  \n",
            "---  ------           --------------  -----  \n",
            " 0   ID               10240 non-null  object \n",
            " 1   label            10240 non-null  object \n",
            " 2   statement        10240 non-null  object \n",
            " 3   subject          10240 non-null  object \n",
            " 4   speaker          10240 non-null  object \n",
            " 5   speaker's title  10240 non-null  object \n",
            " 6   state            10240 non-null  object \n",
            " 7   party            10240 non-null  object \n",
            " 8   barely true      10240 non-null  float64\n",
            " 9   false            10240 non-null  float64\n",
            " 10  half true        10240 non-null  float64\n",
            " 11  mostly true      10240 non-null  float64\n",
            " 12  pants on fire    10240 non-null  float64\n",
            " 13  context          10240 non-null  object \n",
            " 14  justification    10240 non-null  object \n",
            "dtypes: float64(5), object(10)\n",
            "memory usage: 1.2+ MB\n"
          ]
        }
      ],
      "source": [
        "print(f'Number of datapoints are {len(train_df)}')\n",
        "print(f'Shape of df is {train_df.shape}')\n",
        "train_df.info()"
      ]
    },
    {
      "cell_type": "code",
      "execution_count": 54,
      "metadata": {
        "colab": {
          "base_uri": "https://localhost:8080/",
          "height": 516
        },
        "id": "EJtWvQliXy3E",
        "outputId": "5e99ab55-b942-4b63-a4b0-e4199ae1c5ee"
      },
      "outputs": [
        {
          "data": {
            "text/plain": [
              "<matplotlib.legend.Legend at 0x78d966200cd0>"
            ]
          },
          "execution_count": 54,
          "metadata": {},
          "output_type": "execute_result"
        },
        {
          "data": {
            "image/png": "[encoded data removed]",
            "text/plain": [
              "<Figure size 400x400 with 1 Axes>"
            ]
          },
          "metadata": {},
          "output_type": "display_data"
        }
      ],
      "source": [
        "train_df[\"label\"].value_counts().head(7).plot(kind = 'pie', autopct='%1.1f%%', figsize=(4, 4)).legend(bbox_to_anchor=(1, 1))"
      ]
    },
    {
      "cell_type": "code",
      "execution_count": 55,
      "metadata": {
        "id": "OU4zC7_huq4V"
      },
      "outputs": [],
      "source": [
        "# 2. Preprocessing e tokenizzazione\n",
        "import re\n",
        "from transformers import DistilBertTokenizerFast\n",
        "tokenizer = DistilBertTokenizerFast.from_pretrained('distilbert-base-uncased', do_lower_case=True)\n",
        "\n",
        "def preprocess_text(texts):\n",
        "    processed = []\n",
        "    for text in texts:\n",
        "        text = str(text).lower()\n",
        "        text = re.sub(r'http\\S+|www\\S+|https\\S+', '', text, flags=re.MULTILINE)\n",
        "        text = re.sub(r'@\\w+', '', text)\n",
        "        text = re.sub(r'#\\w+', '', text)\n",
        "        text = re.sub(r'[^\\w\\s]', '', text)\n",
        "        processed.append(text.strip())\n",
        "    return processed\n"
      ]
    },
    {
      "cell_type": "code",
      "execution_count": 56,
      "metadata": {
        "id": "srilXwdHwAde"
      },
      "outputs": [],
      "source": [
        "# 3. Encoding labels (come nel tuo codice originale)\n",
        "\n",
        "def encode_labels(df):\n",
        "    df['label'] = df['label'].map({\n",
        "        'true': 1, 'mostly-true': 1, 'half-true': 1,\n",
        "        'false': 0, 'barely-true': 0, 'pants-fire': 0\n",
        "    })\n",
        "    return df\n",
        "\n",
        "train_df = encode_labels(train_df)\n",
        "val_df = encode_labels(val_df)\n",
        "test_df = encode_labels(test_df)\n"
      ]
    },
    {
      "cell_type": "code",
      "execution_count": 57,
      "metadata": {
        "colab": {
          "base_uri": "https://localhost:8080/",
          "height": 532
        },
        "id": "R36hCDgPTzUp",
        "outputId": "a73f5367-ee04-4ac5-dc9b-36ca7aec2f75"
      },
      "outputs": [
        {
          "name": "stderr",
          "output_type": "stream",
          "text": [
            "/tmp/ipython-input-3581135491.py:13: FutureWarning: \n",
            "\n",
            "Passing `palette` without assigning `hue` is deprecated and will be removed in v0.14.0. Assign the `x` variable to `hue` and set `legend=False` for the same effect.\n",
            "\n",
            "  sns.countplot(data=train_df, x='label', palette='viridis')\n"
          ]
        },
        {
          "data": {
            "image/png": "[encoded data removed]",
            "text/plain": [
              "<Figure size 600x400 with 1 Axes>"
            ]
          },
          "metadata": {},
          "output_type": "display_data"
        }
      ],
      "source": [
        "import pandas as pd\n",
        "import matplotlib.pyplot as plt\n",
        "import seaborn as sns\n",
        "\n",
        "# Imposta lo stile di Seaborn\n",
        "sns.set(style=\"whitegrid\")\n",
        "\n",
        "# Mappa le etichette numeriche in stringhe leggibili\n",
        "train_df['label'] = train_df['label'].map({0: 'False', 1: 'True'})\n",
        "\n",
        "# Crea il grafico\n",
        "plt.figure(figsize=(6, 4))\n",
        "sns.countplot(data=train_df, x='label', palette='viridis')\n",
        "\n",
        "# Personalizza il grafico\n",
        "plt.title('Distribution of labels in the Train Set')\n",
        "plt.xlabel('Label')\n",
        "plt.tight_layout()\n",
        "plt.show()\n",
        "\n"
      ]
    },
    {
      "cell_type": "code",
      "execution_count": 58,
      "metadata": {
        "colab": {
          "base_uri": "https://localhost:8080/"
        },
        "id": "5zpctZtQY2-9",
        "outputId": "6bb69ed1-b8b8-4a76-ec28-51a54c94212d"
      },
      "outputs": [
        {
          "name": "stdout",
          "output_type": "stream",
          "text": [
            "Distribuzione etichette nel Train set:\n",
            "False: 4488 esempi\n",
            "True: 5752 esempi\n"
          ]
        }
      ],
      "source": [
        "# Se le etichette sono già in formato stringa\n",
        "label_counts = train_df['label'].value_counts()\n",
        "\n",
        "print(\"Distribuzione etichette nel Train set:\")\n",
        "print(f\"False: {label_counts.get('False', 0)} esempi\")\n",
        "print(f\"True: {label_counts.get('True', 0)} esempi\")\n"
      ]
    },
    {
      "cell_type": "markdown",
      "metadata": {
        "id": "zJ3Qr_-2wupx"
      },
      "source": [
        "#Tokenizzazione testo"
      ]
    },
    {
      "cell_type": "code",
      "execution_count": 9,
      "metadata": {
        "id": "uo185h-bLy1d"
      },
      "outputs": [],
      "source": [
        "# 3. Combina testo e metadati\n",
        "def combine_text_and_metadata(df):\n",
        "    meta = []\n",
        "    for i in range(len(df)):\n",
        "        subject = df['subject'][i] if df['subject'][i] != 0 else 'None'\n",
        "        speaker = df['speaker'][i] if df['speaker'][i] != 0 else 'None'\n",
        "        job = df[\"speaker's title\"][i] if df[\"speaker's title\"][i] != 0 else 'None'\n",
        "        state = df['state'][i] if df['state'][i] != 0 else 'None'\n",
        "        party = df['party'][i] if df['party'][i] != 0 else 'None'\n",
        "        context = df['context'][i] if df['context'][i] != 0 else 'None'\n",
        "        meta_text = f\"{subject} {speaker} {job} {state} {party} {context}\"\n",
        "        meta.append(meta_text)\n",
        "    df['combined_text'] = df['statement'].astype(str) + \" \" + pd.Series(meta)\n",
        "    return df\n"
      ]
    },
    {
      "cell_type": "code",
      "execution_count": 10,
      "metadata": {
        "id": "vXOzJsYlL0cU"
      },
      "outputs": [],
      "source": [
        "train_df = combine_text_and_metadata(train_df)\n",
        "val_df = combine_text_and_metadata(val_df)\n",
        "test_df = combine_text_and_metadata(test_df)\n"
      ]
    },
    {
      "cell_type": "code",
      "execution_count": null,
      "metadata": {
        "id": "sbMDSuIbwEPq"
      },
      "outputs": [],
      "source": [
        "# 4. Preprocessing testo\n",
        "tokenizer = DistilBertTokenizerFast.from_pretrained('distilbert-base-uncased', do_lower_case=True)\n",
        "\n",
        "def preprocess_text(texts):\n",
        "    processed = []\n",
        "    for text in texts:\n",
        "        text = str(text).lower()\n",
        "        text = re.sub(r'http\\S+|www\\S+|https\\S+', '', text)\n",
        "        text = re.sub(r'@\\w+', '', text)\n",
        "        text = re.sub(r'#\\w+', '', text)\n",
        "        text = re.sub(r'[^\\w\\s]', '', text)\n",
        "        processed.append(text.strip())\n",
        "    return processed\n",
        "\n",
        "def tokenize_data(df, tokenizer, max_len=256):\n",
        "    texts = preprocess_text(df['combined_text'])\n",
        "    encodings = tokenizer.batch_encode_plus(\n",
        "        texts,\n",
        "        max_length=max_len,\n",
        "        padding='max_length',\n",
        "        truncation=True,\n",
        "        return_attention_mask=True,\n",
        "        return_tensors='pt'\n",
        "    )\n",
        "    return encodings\n",
        "\n",
        "train_encodings = tokenize_data(train_df, tokenizer)\n",
        "val_encodings = tokenize_data(val_df, tokenizer)\n",
        "test_encodings = tokenize_data(test_df, tokenizer)"
      ]
    },
    {
      "cell_type": "code",
      "execution_count": 12,
      "metadata": {
        "id": "2siAX9ZGu1OT"
      },
      "outputs": [],
      "source": [
        "# Creazione dataset\n",
        "train_dataset = TensorDataset(\n",
        "    train_encodings['input_ids'],\n",
        "    train_encodings['attention_mask'],\n",
        "    torch.tensor(train_df['label'].values).long()\n",
        ")\n",
        "\n",
        "val_dataset = TensorDataset(\n",
        "    val_encodings['input_ids'],\n",
        "    val_encodings['attention_mask'],\n",
        "    torch.tensor(val_df['label'].values).long()\n",
        ")\n",
        "\n",
        "test_dataset = TensorDataset(\n",
        "    test_encodings['input_ids'],\n",
        "    test_encodings['attention_mask'],\n",
        "    torch.tensor(test_df['label'].values).long()\n",
        ")"
      ]
    },
    {
      "cell_type": "markdown",
      "metadata": {
        "id": "-UF1nQlCwxZf"
      },
      "source": [
        "# Processing metadati"
      ]
    },
    {
      "cell_type": "markdown",
      "metadata": {
        "id": "JvnJPVeI_1iB"
      },
      "source": [
        "## 2. Architettura del Modello\n",
        "Backbone DistilBERT: Fornisce rappresentazioni linguistiche pre-addestrate efficienti\n",
        "\n",
        "MLP a 4 livelli: Classificatore profondo con:\n",
        "\n",
        "Livelli nascosti di dimensioni 512, 256, 64\n",
        "\n",
        "Attivazioni GELU (più fluide di ReLU)\n",
        "\n",
        "Dropout (0.4) per regolarizzazione\n",
        "\n",
        "Inizializzazione Xavier per pesi bilanciati"
      ]
    },
    {
      "cell_type": "code",
      "execution_count": 13,
      "metadata": {
        "id": "4MJuhQ_d_yTC"
      },
      "outputs": [],
      "source": [
        "import torch.nn as nn\n",
        "from transformers import DistilBertModel\n",
        "\n",
        "# 5. Modello ottimizzato\n",
        "import torch\n",
        "import torch.nn as nn\n",
        "from transformers import DistilBertModel\n",
        "\n",
        "# Modello con mean pooling\n",
        "class DistilBERTMLPClassifier(nn.Module):\n",
        "    def __init__(self):\n",
        "        super().__init__()\n",
        "        self.distilbert = DistilBertModel.from_pretrained(\"distilbert-base-uncased\")\n",
        "        self.mlp = nn.Sequential(\n",
        "            nn.Linear(768, 512),\n",
        "            nn.GELU(),\n",
        "            nn.Dropout(0.4),\n",
        "            nn.Linear(512, 256),\n",
        "            nn.GELU(),\n",
        "            nn.Dropout(0.4),\n",
        "            nn.Linear(256, 64),\n",
        "            nn.GELU(),\n",
        "            nn.Dropout(0.4),\n",
        "            nn.Linear(64, 2)\n",
        "        )\n",
        "        self._init_weights()\n",
        "\n",
        "    def _init_weights(self):\n",
        "        for layer in self.mlp:\n",
        "            if isinstance(layer, nn.Linear):\n",
        "                nn.init.xavier_normal_(layer.weight)\n",
        "                if layer.bias is not None:\n",
        "                    nn.init.constant_(layer.bias, 0)\n",
        "\n",
        "    def forward(self, input_ids, attention_mask):\n",
        "        outputs = self.distilbert(input_ids=input_ids, attention_mask=attention_mask)\n",
        "        last_hidden_state = outputs.last_hidden_state  # (batch_size, seq_len, hidden_size)\n",
        "\n",
        "        # Mean pooling su tutti i token validi\n",
        "        mask = attention_mask.unsqueeze(-1)  # (batch_size, seq_len, 1)\n",
        "        masked_hidden = last_hidden_state * mask\n",
        "        pooled = masked_hidden.sum(dim=1) / mask.sum(dim=1)  # (batch_size, hidden_size)\n",
        "\n",
        "        return self.mlp(pooled)\n"
      ]
    },
    {
      "cell_type": "code",
      "execution_count": 14,
      "metadata": {
        "colab": {
          "base_uri": "https://localhost:8080/"
        },
        "id": "bXDiBiFEvycb",
        "outputId": "43ad2d6c-8d32-43d5-bcad-4f9773aba609"
      },
      "outputs": [
        {
          "name": "stdout",
          "output_type": "stream",
          "text": [
            "Using device: cuda\n"
          ]
        }
      ],
      "source": [
        "# Define the device\n",
        "device = torch.device(\"cuda\" if torch.cuda.is_available() else \"cpu\")\n",
        "print(f'Using device: {device}')"
      ]
    },
    {
      "cell_type": "code",
      "execution_count": 15,
      "metadata": {
        "colab": {
          "base_uri": "https://localhost:8080/",
          "height": 50,
          "referenced_widgets": [
            "155beef1240c4a9899274c54abd0f4a1",
            "8637e5f409474aa5a1677e913b69004c",
            "5e6c4b2a1c2845e38edec2fd9c7ea465",
            "cc71b312616e45938ebfc6669c7b4e9f",
            "3ffb5c13bdb64f18a098fb7e9bc52e10",
            "cc20b43bae534763a1663335b16cff34",
            "1e15ed308daa4b0196ba7b510669bf1a",
            "bf19264d76674a828c7afda23ff79261",
            "ba4ca54d80504614849ae6deb20267d5",
            "8f451f90df854f7f83cb45517a4a07fa",
            "061f4280a5f24fd5b31960955457fc0c"
          ]
        },
        "id": "dylTOgqmu7cO",
        "outputId": "479df1be-16f7-4b37-b19b-372de6c62a39"
      },
      "outputs": [
        {
          "data": {
            "application/vnd.jupyter.widget-view+json": {
              "model_id": "155beef1240c4a9899274c54abd0f4a1",
              "version_major": 2,
              "version_minor": 0
            },
            "text/plain": [
              "model.safetensors:   0%|          | 0.00/268M [00:00<?, ?B/s]"
            ]
          },
          "metadata": {},
          "output_type": "display_data"
        }
      ],
      "source": [
        "from torch.utils.data import DataLoader, RandomSampler, SequentialSampler\n",
        "\n",
        "# 6. Config training\n",
        "BATCH_SIZE = 16\n",
        "EPOCHS = 6\n",
        "WEIGHT_DECAY = 0.05\n",
        "WARMUP_STEPS = 100\n",
        "\n",
        "class_counts = train_df['label'].value_counts().sort_index()\n",
        "class_weights = torch.tensor((1. / class_counts).values, dtype=torch.float32).to(device)\n",
        "\n",
        "train_dataloader = DataLoader(train_dataset, sampler=RandomSampler(train_dataset), batch_size=BATCH_SIZE)\n",
        "val_dataloader = DataLoader(val_dataset, sampler=SequentialSampler(val_dataset), batch_size=BATCH_SIZE)\n",
        "test_dataloader = DataLoader(test_dataset, sampler=SequentialSampler(test_dataset), batch_size=BATCH_SIZE)\n",
        "\n",
        "model = DistilBERTMLPClassifier().to(device)"
      ]
    },
    {
      "cell_type": "code",
      "execution_count": 16,
      "metadata": {
        "id": "j8CGXCN5u9By"
      },
      "outputs": [],
      "source": [
        "# Dataloaders\n",
        "from torch.utils.data import RandomSampler, SequentialSampler\n",
        "\n",
        "train_dataloader = DataLoader(\n",
        "    train_dataset,\n",
        "    sampler=RandomSampler(train_dataset),\n",
        "    batch_size=BATCH_SIZE\n",
        ")\n",
        "\n",
        "val_dataloader = DataLoader(\n",
        "    val_dataset,\n",
        "    sampler=SequentialSampler(val_dataset),\n",
        "    batch_size=BATCH_SIZE\n",
        ")\n",
        "\n",
        "test_dataloader = DataLoader(\n",
        "    test_dataset,\n",
        "    sampler=SequentialSampler(test_dataset),\n",
        "    batch_size=BATCH_SIZE\n",
        ")\n",
        "\n",
        "\n",
        "# Inizializzazione modello\n",
        "model = DistilBERTMLPClassifier().to(device)"
      ]
    },
    {
      "cell_type": "code",
      "execution_count": 17,
      "metadata": {
        "id": "fi9sWjZZvBTe"
      },
      "outputs": [],
      "source": [
        "# 5. Freezing stratificato\n",
        "from transformers import get_linear_schedule_with_warmup\n",
        "from torch.optim import AdamW\n",
        "\n",
        "\n",
        "# 7. Funzione per unfreezing graduale\n",
        "# Gradual unfreezing più fine\n",
        "def set_requires_grad(model, epoch):\n",
        "    # Fase 0: solo MLP\n",
        "    if epoch == 0:\n",
        "        for param in model.distilbert.parameters():\n",
        "            param.requires_grad = False\n",
        "        for param in model.mlp.parameters():\n",
        "            param.requires_grad = True\n",
        "\n",
        "    # Fase 1: sblocca layer 5\n",
        "    elif epoch == 1:\n",
        "        for param in model.distilbert.transformer.layer[5].parameters():\n",
        "            param.requires_grad = True\n",
        "        for param in model.distilbert.transformer.layer[:5].parameters():\n",
        "            param.requires_grad = False\n",
        "        for param in model.mlp.parameters():\n",
        "            param.requires_grad = True\n",
        "\n",
        "    # Fase 2: sblocca layer 4\n",
        "    elif epoch == 2:\n",
        "        for param in model.distilbert.transformer.layer[4].parameters():\n",
        "            param.requires_grad = True\n",
        "        # layer 0-3 rimangono congelati\n",
        "        for param in model.distilbert.transformer.layer[:4].parameters():\n",
        "            param.requires_grad = False\n",
        "        for param in model.mlp.parameters():\n",
        "            param.requires_grad = True\n",
        "\n",
        "    # Fase 3: sblocca layer 3\n",
        "    elif epoch == 3:\n",
        "        for param in model.distilbert.transformer.layer[3].parameters():\n",
        "            param.requires_grad = True\n",
        "        for param in model.distilbert.transformer.layer[:3].parameters():\n",
        "            param.requires_grad = False\n",
        "        for param in model.mlp.parameters():\n",
        "            param.requires_grad = True\n",
        "\n",
        "    # Fase 4+: tutto sbloccato\n",
        "    else:\n",
        "        for param in model.parameters():\n",
        "            param.requires_grad = True\n",
        "\n",
        "\n"
      ]
    },
    {
      "cell_type": "code",
      "execution_count": 18,
      "metadata": {
        "id": "Nh8iPWJUpd38"
      },
      "outputs": [],
      "source": [
        "# 8. Ottimizzatore con LR discriminativo\n",
        "optimizer = AdamW([\n",
        "    {'params': [p for n, p in model.distilbert.named_parameters() if \"layer.0\" in n or \"layer.1\" in n], 'lr': 1e-5},\n",
        "    {'params': [p for n, p in model.distilbert.named_parameters() if \"layer.2\" in n or \"layer.3\" in n], 'lr': 1.5e-5},\n",
        "    {'params': [p for n, p in model.distilbert.named_parameters() if \"layer.4\" in n or \"layer.5\" in n], 'lr': 2e-5},\n",
        "    {'params': model.mlp.parameters(), 'lr': 2e-5}\n",
        "], weight_decay=WEIGHT_DECAY, eps=1e-8)\n",
        "\n",
        "scheduler = torch.optim.lr_scheduler.CosineAnnealingWarmRestarts(optimizer, T_0=2, T_mult=1)\n",
        "criterion = nn.CrossEntropyLoss(weight=class_weights)\n"
      ]
    },
    {
      "cell_type": "code",
      "execution_count": 19,
      "metadata": {
        "id": "ZdDKE0AtvD7N"
      },
      "outputs": [],
      "source": [
        "# 7. Training loop with early stopping\n",
        "from sklearn.metrics import f1_score, roc_auc_score\n",
        "import copy\n",
        "\n",
        "# 9. Training loop\n",
        "def train_model():\n",
        "    best_val_accuracy = 0\n",
        "    best_model_state = None\n",
        "    early_stop_counter = 0\n",
        "    PATIENCE = 3\n",
        "    training_stats = []\n",
        "\n",
        "    for epoch in range(EPOCHS):\n",
        "        print(f\"\\nEpoch {epoch + 1}/{EPOCHS}\")\n",
        "        print(\"-\" * 50)\n",
        "        set_requires_grad(model, epoch)\n",
        "        model.train()\n",
        "        total_train_loss, total_train_correct = 0, 0\n",
        "\n",
        "        for step, batch in enumerate(train_dataloader):\n",
        "            input_ids, attention_mask, labels = [b.to(device) for b in batch]\n",
        "            model.zero_grad()\n",
        "            outputs = model(input_ids, attention_mask)\n",
        "            loss = criterion(outputs, labels)\n",
        "            loss.backward()\n",
        "            torch.nn.utils.clip_grad_norm_(model.parameters(), 1.0)\n",
        "            optimizer.step()\n",
        "            scheduler.step(epoch + step / len(train_dataloader))\n",
        "\n",
        "            total_train_loss += loss.item()\n",
        "            preds = torch.argmax(outputs, dim=1)\n",
        "            total_train_correct += (preds == labels).sum().item()\n",
        "\n",
        "        avg_train_loss = total_train_loss / len(train_dataloader)\n",
        "        train_accuracy = total_train_correct / len(train_dataset)\n",
        "\n",
        "        # Validation\n",
        "        model.eval()\n",
        "        total_val_loss, total_val_correct = 0, 0\n",
        "        all_preds, all_labels = [], []\n",
        "\n",
        "        for batch in val_dataloader:\n",
        "            input_ids, attention_mask, labels = [b.to(device) for b in batch]\n",
        "            with torch.no_grad():\n",
        "                outputs = model(input_ids, attention_mask)\n",
        "                loss = criterion(outputs, labels)\n",
        "                total_val_loss += loss.item()\n",
        "                preds = torch.argmax(outputs, dim=1)\n",
        "                total_val_correct += (preds == labels).sum().item()\n",
        "                all_preds.extend(preds.cpu().numpy())\n",
        "                all_labels.extend(labels.cpu().numpy())\n",
        "\n",
        "        avg_val_loss = total_val_loss / len(val_dataloader)\n",
        "        val_accuracy = total_val_correct / len(val_dataset)\n",
        "        val_f1 = f1_score(all_labels, all_preds)\n",
        "        val_roc_auc = roc_auc_score(all_labels, all_preds)\n",
        "\n",
        "        training_stats.append({\n",
        "            'epoch': epoch + 1,\n",
        "            'train_loss': avg_train_loss,\n",
        "            'train_acc': train_accuracy,\n",
        "            'val_loss': avg_val_loss,\n",
        "            'val_acc': val_accuracy,\n",
        "            'val_f1': val_f1,\n",
        "            'val_roc_auc': val_roc_auc\n",
        "        })\n",
        "\n",
        "        print(f\"Train Loss: {avg_train_loss:.4f}, Train Acc: {train_accuracy:.4f}\")\n",
        "        print(f\"Val Loss: {avg_val_loss:.4f}, Val Acc: {val_accuracy:.4f}, Val F1: {val_f1:.4f}, Val ROC-AUC: {val_roc_auc:.4f}\")\n",
        "\n",
        "        if val_accuracy > best_val_accuracy:\n",
        "            best_val_accuracy = val_accuracy\n",
        "            best_model_state = copy.deepcopy(model.state_dict())\n",
        "            early_stop_counter = 0\n",
        "            torch.save(model.state_dict(), 'best_model.pt')\n",
        "        else:\n",
        "            early_stop_counter += 1\n",
        "            if early_stop_counter >= PATIENCE:\n",
        "                print(f\"Early stopping at epoch {epoch + 1}\")\n",
        "                break\n",
        "\n",
        "    model.load_state_dict(best_model_state)\n",
        "    return model, training_stats"
      ]
    },
    {
      "cell_type": "markdown",
      "metadata": {
        "id": "NnbSyY1Ya1lK"
      },
      "source": [
        "Ricorda addestra DistillBert su 6 epoche perchè altrimenti con 8 il training impara troppo e la validation meno, andando cosi in overfitting"
      ]
    },
    {
      "cell_type": "code",
      "execution_count": 20,
      "metadata": {
        "colab": {
          "base_uri": "https://localhost:8080/"
        },
        "id": "x1y7megzvHqh",
        "outputId": "b82dbb3b-3f97-4d1a-f224-e5afb23177b1"
      },
      "outputs": [
        {
          "name": "stdout",
          "output_type": "stream",
          "text": [
            "\n",
            "Epoch 1/6\n",
            "--------------------------------------------------\n",
            "Train Loss: 0.6934, Train Acc: 0.5228\n",
            "Val Loss: 0.6825, Val Acc: 0.5693, Val F1: 0.5136, Val ROC-AUC: 0.5749\n",
            "\n",
            "Epoch 2/6\n",
            "--------------------------------------------------\n",
            "Train Loss: 0.6849, Train Acc: 0.5532\n",
            "Val Loss: 0.6788, Val Acc: 0.6067, Val F1: 0.6441, Val ROC-AUC: 0.6034\n",
            "\n",
            "Epoch 3/6\n",
            "--------------------------------------------------\n",
            "Train Loss: 0.6702, Train Acc: 0.5876\n",
            "Val Loss: 0.6635, Val Acc: 0.6168, Val F1: 0.6445, Val ROC-AUC: 0.6147\n",
            "\n",
            "Epoch 4/6\n",
            "--------------------------------------------------\n",
            "Train Loss: 0.6524, Train Acc: 0.6132\n",
            "Val Loss: 0.6480, Val Acc: 0.6223, Val F1: 0.5982, Val ROC-AUC: 0.6257\n",
            "\n",
            "Epoch 5/6\n",
            "--------------------------------------------------\n",
            "Train Loss: 0.6445, Train Acc: 0.6263\n",
            "Val Loss: 0.6312, Val Acc: 0.6441, Val F1: 0.6393, Val ROC-AUC: 0.6457\n",
            "\n",
            "Epoch 6/6\n",
            "--------------------------------------------------\n",
            "Train Loss: 0.5975, Train Acc: 0.6756\n",
            "Val Loss: 0.6370, Val Acc: 0.6464, Val F1: 0.6529, Val ROC-AUC: 0.6467\n"
          ]
        }
      ],
      "source": [
        "# 10. Addestramento\n",
        "trained_model, stats = train_model()"
      ]
    },
    {
      "cell_type": "code",
      "execution_count": 21,
      "metadata": {
        "colab": {
          "base_uri": "https://localhost:8080/"
        },
        "id": "z4jXSuP0vJyL",
        "outputId": "4189956b-4499-471a-aecb-0a0acb772b32"
      },
      "outputs": [
        {
          "name": "stdout",
          "output_type": "stream",
          "text": [
            "Test Accuracy: 0.6669, Test F1: 0.6960, Test ROC-AUC: 0.6655\n",
            "Confusion Matrix:\n",
            " [[362 191]\n",
            " [231 483]]\n",
            "Classification Report:\n",
            "               precision    recall  f1-score   support\n",
            "\n",
            "           0     0.6105    0.6546    0.6318       553\n",
            "           1     0.7166    0.6765    0.6960       714\n",
            "\n",
            "    accuracy                         0.6669      1267\n",
            "   macro avg     0.6635    0.6655    0.6639      1267\n",
            "weighted avg     0.6703    0.6669    0.6679      1267\n",
            "\n"
          ]
        }
      ],
      "source": [
        "# 9. Valutazione sul test set\n",
        "from sklearn.metrics import confusion_matrix, classification_report\n",
        "\n",
        "# 11. Valutazione finale\n",
        "def evaluate(model, dataloader):\n",
        "    model.eval()\n",
        "    total_correct = 0\n",
        "    all_preds, all_labels = [], []\n",
        "\n",
        "    for batch in dataloader:\n",
        "        input_ids, attention_mask, labels = [b.to(device) for b in batch]\n",
        "        with torch.no_grad():\n",
        "            outputs = model(input_ids, attention_mask)\n",
        "            preds = torch.argmax(outputs, dim=1)\n",
        "            total_correct += (preds == labels).sum().item()\n",
        "            all_preds.extend(preds.cpu().numpy())\n",
        "            all_labels.extend(labels.cpu().numpy())\n",
        "\n",
        "    accuracy = total_correct / len(dataloader.dataset)\n",
        "    f1 = f1_score(all_labels, all_preds)\n",
        "    roc_auc = roc_auc_score(all_labels, all_preds)\n",
        "    cm = confusion_matrix(all_labels, all_preds)\n",
        "    cr = classification_report(all_labels, all_preds, digits=4)\n",
        "\n",
        "    print(f\"Test Accuracy: {accuracy:.4f}, Test F1: {f1:.4f}, Test ROC-AUC: {roc_auc:.4f}\")\n",
        "    print(\"Confusion Matrix:\\n\", cm)\n",
        "    print(\"Classification Report:\\n\", cr)\n",
        "    return accuracy, f1, roc_auc\n",
        "\n",
        "test_accuracy, test_f1, test_roc_auc = evaluate(trained_model, test_dataloader)"
      ]
    },
    {
      "cell_type": "markdown",
      "metadata": {
        "id": "ek8aJi7KjIyz"
      },
      "source": [
        "Learning Curve Visualization¶"
      ]
    },
    {
      "cell_type": "code",
      "execution_count": 22,
      "metadata": {
        "colab": {
          "base_uri": "https://localhost:8080/",
          "height": 564
        },
        "id": "wEDAZqP1qlTw",
        "outputId": "fd9b598c-fb86-465f-93ba-241205192521"
      },
      "outputs": [
        {
          "data": {
            "image/png": "[encoded data removed]",
            "text/plain": [
              "<Figure size 800x600 with 1 Axes>"
            ]
          },
          "metadata": {},
          "output_type": "display_data"
        }
      ],
      "source": [
        "from sklearn.metrics import precision_recall_curve, average_precision_score\n",
        "import matplotlib.pyplot as plt\n",
        "import torch\n",
        "import numpy as np\n",
        "\n",
        "def plot_precision_recall(model, dataloader):\n",
        "    model.eval()\n",
        "    all_labels = []\n",
        "    all_probs = []\n",
        "\n",
        "    with torch.no_grad():\n",
        "        for batch in dataloader:\n",
        "            input_ids, attention_mask, labels = [b.to(device) for b in batch]\n",
        "            outputs = model(input_ids, attention_mask)\n",
        "            probs = torch.softmax(outputs, dim=1)[:, 1]  # Probabilità classe positiva\n",
        "            all_probs.extend(probs.cpu().numpy())\n",
        "            all_labels.extend(labels.cpu().numpy())\n",
        "\n",
        "    all_labels = np.array(all_labels)\n",
        "    all_probs = np.array(all_probs)\n",
        "\n",
        "    precision, recall, thresholds = precision_recall_curve(all_labels, all_probs)\n",
        "    avg_precision = average_precision_score(all_labels, all_probs)\n",
        "\n",
        "    plt.figure(figsize=(8, 6))\n",
        "    plt.plot(recall, precision, label=f'AP = {avg_precision:.4f}', color='b')\n",
        "    plt.xlabel('Recall')\n",
        "    plt.ylabel('Precision')\n",
        "    plt.title('Precision-Recall Curve')\n",
        "    plt.legend(loc='lower left')\n",
        "    plt.grid(True)\n",
        "    plt.show()\n",
        "\n",
        "# Uso:\n",
        "plot_precision_recall(trained_model, test_dataloader)\n"
      ]
    },
    {
      "cell_type": "code",
      "execution_count": 23,
      "metadata": {
        "colab": {
          "base_uri": "https://localhost:8080/",
          "height": 718
        },
        "id": "AYm279uVjFQP",
        "outputId": "54bc94bc-782d-4b1a-b3bb-0739b6c2efe7"
      },
      "outputs": [
        {
          "data": {
            "text/html": [
              "<html>\n",
              "<head><meta charset=\"utf-8\" /></head>\n",
              "<body>\n",
              "    <div>            <script src=\"https://cdnjs.cloudflare.com/ajax/libs/mathjax/2.7.5/MathJax.js?config=TeX-AMS-MML_SVG\"></script><script type=\"text/javascript\">if (window.MathJax && window.MathJax.Hub && window.MathJax.Hub.Config) {window.MathJax.Hub.Config({SVG: {font: \"STIX-Web\"}});}</script>                <script type=\"text/javascript\">window.PlotlyConfig = {MathJaxConfig: 'local'};</script>\n",
              "        <script charset=\"utf-8\" src=\"https://cdn.plot.ly/plotly-2.35.2.min.js\"></script>                <div id=\"117b07bf-81a0-43cf-8480-21eb42b4a0f1\" class=\"plotly-graph-div\" style=\"height:700px; width:900px;\"></div>            <script type=\"text/javascript\">                                    window.PLOTLYENV=window.PLOTLYENV || {};                                    if (document.getElementById(\"117b07bf-81a0-43cf-8480-21eb42b4a0f1\")) {                    Plotly.newPlot(                        \"117b07bf-81a0-43cf-8480-21eb42b4a0f1\",                        [{\"mode\":\"lines\",\"name\":\"Training Loss\",\"x\":[1,2,3,4,5,6],\"y\":[0.6933957440778613,0.6848795681260527,0.6701904418878257,0.6524472889024764,0.6445191926788538,0.5974833604879677],\"type\":\"scatter\",\"xaxis\":\"x\",\"yaxis\":\"y\"},{\"mode\":\"lines\",\"name\":\"Validation Loss\",\"x\":[1,2,3,4,5,6],\"y\":[0.6825063530309701,0.6788173729990735,0.6634588874416587,0.6479732353746155,0.6311692970770376,0.6369653086603424],\"type\":\"scatter\",\"xaxis\":\"x\",\"yaxis\":\"y\"},{\"mode\":\"lines\",\"name\":\"Training Accuracy\",\"x\":[1,2,3,4,5,6],\"y\":[0.52275390625,0.55322265625,0.58759765625,0.61318359375,0.62626953125,0.6755859375],\"type\":\"scatter\",\"xaxis\":\"x2\",\"yaxis\":\"y2\"},{\"mode\":\"lines\",\"name\":\"Validation Accuracy\",\"x\":[1,2,3,4,5,6],\"y\":[0.5693146417445483,0.6066978193146417,0.616822429906542,0.6222741433021807,0.6440809968847352,0.6464174454828661],\"type\":\"scatter\",\"xaxis\":\"x2\",\"yaxis\":\"y2\"},{\"mode\":\"lines\",\"name\":\"Validation F1\",\"x\":[1,2,3,4,5,6],\"y\":[0.51363236587511,0.6441155743481325,0.6445086705202312,0.5981772990886496,0.6393054459352802,0.6529051987767585],\"type\":\"scatter\",\"xaxis\":\"x3\",\"yaxis\":\"y3\"},{\"mode\":\"lines\",\"name\":\"Validation ROC-AUC\",\"x\":[1,2,3,4,5,6],\"y\":[0.5748940430826659,0.6034295046271094,0.6146764911734971,0.6257290613578039,0.6456761801073179,0.6467211680535033],\"type\":\"scatter\",\"xaxis\":\"x4\",\"yaxis\":\"y4\"}],                        {\"template\":{\"data\":{\"histogram2dcontour\":[{\"type\":\"histogram2dcontour\",\"colorbar\":{\"outlinewidth\":0,\"ticks\":\"\"},\"colorscale\":[[0.0,\"#0d0887\"],[0.1111111111111111,\"#46039f\"],[0.2222222222222222,\"#7201a8\"],[0.3333333333333333,\"#9c179e\"],[0.4444444444444444,\"#bd3786\"],[0.5555555555555556,\"#d8576b\"],[0.6666666666666666,\"#ed7953\"],[0.7777777777777778,\"#fb9f3a\"],[0.8888888888888888,\"#fdca26\"],[1.0,\"#f0f921\"]]}],\"choropleth\":[{\"type\":\"choropleth\",\"colorbar\":{\"outlinewidth\":0,\"ticks\":\"\"}}],\"histogram2d\":[{\"type\":\"histogram2d\",\"colorbar\":{\"outlinewidth\":0,\"ticks\":\"\"},\"colorscale\":[[0.0,\"#0d0887\"],[0.1111111111111111,\"#46039f\"],[0.2222222222222222,\"#7201a8\"],[0.3333333333333333,\"#9c179e\"],[0.4444444444444444,\"#bd3786\"],[0.5555555555555556,\"#d8576b\"],[0.6666666666666666,\"#ed7953\"],[0.7777777777777778,\"#fb9f3a\"],[0.8888888888888888,\"#fdca26\"],[1.0,\"#f0f921\"]]}],\"heatmap\":[{\"type\":\"heatmap\",\"colorbar\":{\"outlinewidth\":0,\"ticks\":\"\"},\"colorscale\":[[0.0,\"#0d0887\"],[0.1111111111111111,\"#46039f\"],[0.2222222222222222,\"#7201a8\"],[0.3333333333333333,\"#9c179e\"],[0.4444444444444444,\"#bd3786\"],[0.5555555555555556,\"#d8576b\"],[0.6666666666666666,\"#ed7953\"],[0.7777777777777778,\"#fb9f3a\"],[0.8888888888888888,\"#fdca26\"],[1.0,\"#f0f921\"]]}],\"heatmapgl\":[{\"type\":\"heatmapgl\",\"colorbar\":{\"outlinewidth\":0,\"ticks\":\"\"},\"colorscale\":[[0.0,\"#0d0887\"],[0.1111111111111111,\"#46039f\"],[0.2222222222222222,\"#7201a8\"],[0.3333333333333333,\"#9c179e\"],[0.4444444444444444,\"#bd3786\"],[0.5555555555555556,\"#d8576b\"],[0.6666666666666666,\"#ed7953\"],[0.7777777777777778,\"#fb9f3a\"],[0.8888888888888888,\"#fdca26\"],[1.0,\"#f0f921\"]]}],\"contourcarpet\":[{\"type\":\"contourcarpet\",\"colorbar\":{\"outlinewidth\":0,\"ticks\":\"\"}}],\"contour\":[{\"type\":\"contour\",\"colorbar\":{\"outlinewidth\":0,\"ticks\":\"\"},\"colorscale\":[[0.0,\"#0d0887\"],[0.1111111111111111,\"#46039f\"],[0.2222222222222222,\"#7201a8\"],[0.3333333333333333,\"#9c179e\"],[0.4444444444444444,\"#bd3786\"],[0.5555555555555556,\"#d8576b\"],[0.6666666666666666,\"#ed7953\"],[0.7777777777777778,\"#fb9f3a\"],[0.8888888888888888,\"#fdca26\"],[1.0,\"#f0f921\"]]}],\"surface\":[{\"type\":\"surface\",\"colorbar\":{\"outlinewidth\":0,\"ticks\":\"\"},\"colorscale\":[[0.0,\"#0d0887\"],[0.1111111111111111,\"#46039f\"],[0.2222222222222222,\"#7201a8\"],[0.3333333333333333,\"#9c179e\"],[0.4444444444444444,\"#bd3786\"],[0.5555555555555556,\"#d8576b\"],[0.6666666666666666,\"#ed7953\"],[0.7777777777777778,\"#fb9f3a\"],[0.8888888888888888,\"#fdca26\"],[1.0,\"#f0f921\"]]}],\"mesh3d\":[{\"type\":\"mesh3d\",\"colorbar\":{\"outlinewidth\":0,\"ticks\":\"\"}}],\"scatter\":[{\"fillpattern\":{\"fillmode\":\"overlay\",\"size\":10,\"solidity\":0.2},\"type\":\"scatter\"}],\"parcoords\":[{\"type\":\"parcoords\",\"line\":{\"colorbar\":{\"outlinewidth\":0,\"ticks\":\"\"}}}],\"scatterpolargl\":[{\"type\":\"scatterpolargl\",\"marker\":{\"colorbar\":{\"outlinewidth\":0,\"ticks\":\"\"}}}],\"bar\":[{\"error_x\":{\"color\":\"#2a3f5f\"},\"error_y\":{\"color\":\"#2a3f5f\"},\"marker\":{\"line\":{\"color\":\"#E5ECF6\",\"width\":0.5},\"pattern\":{\"fillmode\":\"overlay\",\"size\":10,\"solidity\":0.2}},\"type\":\"bar\"}],\"scattergeo\":[{\"type\":\"scattergeo\",\"marker\":{\"colorbar\":{\"outlinewidth\":0,\"ticks\":\"\"}}}],\"scatterpolar\":[{\"type\":\"scatterpolar\",\"marker\":{\"colorbar\":{\"outlinewidth\":0,\"ticks\":\"\"}}}],\"histogram\":[{\"marker\":{\"pattern\":{\"fillmode\":\"overlay\",\"size\":10,\"solidity\":0.2}},\"type\":\"histogram\"}],\"scattergl\":[{\"type\":\"scattergl\",\"marker\":{\"colorbar\":{\"outlinewidth\":0,\"ticks\":\"\"}}}],\"scatter3d\":[{\"type\":\"scatter3d\",\"line\":{\"colorbar\":{\"outlinewidth\":0,\"ticks\":\"\"}},\"marker\":{\"colorbar\":{\"outlinewidth\":0,\"ticks\":\"\"}}}],\"scattermapbox\":[{\"type\":\"scattermapbox\",\"marker\":{\"colorbar\":{\"outlinewidth\":0,\"ticks\":\"\"}}}],\"scatterternary\":[{\"type\":\"scatterternary\",\"marker\":{\"colorbar\":{\"outlinewidth\":0,\"ticks\":\"\"}}}],\"scattercarpet\":[{\"type\":\"scattercarpet\",\"marker\":{\"colorbar\":{\"outlinewidth\":0,\"ticks\":\"\"}}}],\"carpet\":[{\"aaxis\":{\"endlinecolor\":\"#2a3f5f\",\"gridcolor\":\"white\",\"linecolor\":\"white\",\"minorgridcolor\":\"white\",\"startlinecolor\":\"#2a3f5f\"},\"baxis\":{\"endlinecolor\":\"#2a3f5f\",\"gridcolor\":\"white\",\"linecolor\":\"white\",\"minorgridcolor\":\"white\",\"startlinecolor\":\"#2a3f5f\"},\"type\":\"carpet\"}],\"table\":[{\"cells\":{\"fill\":{\"color\":\"#EBF0F8\"},\"line\":{\"color\":\"white\"}},\"header\":{\"fill\":{\"color\":\"#C8D4E3\"},\"line\":{\"color\":\"white\"}},\"type\":\"table\"}],\"barpolar\":[{\"marker\":{\"line\":{\"color\":\"#E5ECF6\",\"width\":0.5},\"pattern\":{\"fillmode\":\"overlay\",\"size\":10,\"solidity\":0.2}},\"type\":\"barpolar\"}],\"pie\":[{\"automargin\":true,\"type\":\"pie\"}]},\"layout\":{\"autotypenumbers\":\"strict\",\"colorway\":[\"#636efa\",\"#EF553B\",\"#00cc96\",\"#ab63fa\",\"#FFA15A\",\"#19d3f3\",\"#FF6692\",\"#B6E880\",\"#FF97FF\",\"#FECB52\"],\"font\":{\"color\":\"#2a3f5f\"},\"hovermode\":\"closest\",\"hoverlabel\":{\"align\":\"left\"},\"paper_bgcolor\":\"white\",\"plot_bgcolor\":\"#E5ECF6\",\"polar\":{\"bgcolor\":\"#E5ECF6\",\"angularaxis\":{\"gridcolor\":\"white\",\"linecolor\":\"white\",\"ticks\":\"\"},\"radialaxis\":{\"gridcolor\":\"white\",\"linecolor\":\"white\",\"ticks\":\"\"}},\"ternary\":{\"bgcolor\":\"#E5ECF6\",\"aaxis\":{\"gridcolor\":\"white\",\"linecolor\":\"white\",\"ticks\":\"\"},\"baxis\":{\"gridcolor\":\"white\",\"linecolor\":\"white\",\"ticks\":\"\"},\"caxis\":{\"gridcolor\":\"white\",\"linecolor\":\"white\",\"ticks\":\"\"}},\"coloraxis\":{\"colorbar\":{\"outlinewidth\":0,\"ticks\":\"\"}},\"colorscale\":{\"sequential\":[[0.0,\"#0d0887\"],[0.1111111111111111,\"#46039f\"],[0.2222222222222222,\"#7201a8\"],[0.3333333333333333,\"#9c179e\"],[0.4444444444444444,\"#bd3786\"],[0.5555555555555556,\"#d8576b\"],[0.6666666666666666,\"#ed7953\"],[0.7777777777777778,\"#fb9f3a\"],[0.8888888888888888,\"#fdca26\"],[1.0,\"#f0f921\"]],\"sequentialminus\":[[0.0,\"#0d0887\"],[0.1111111111111111,\"#46039f\"],[0.2222222222222222,\"#7201a8\"],[0.3333333333333333,\"#9c179e\"],[0.4444444444444444,\"#bd3786\"],[0.5555555555555556,\"#d8576b\"],[0.6666666666666666,\"#ed7953\"],[0.7777777777777778,\"#fb9f3a\"],[0.8888888888888888,\"#fdca26\"],[1.0,\"#f0f921\"]],\"diverging\":[[0,\"#8e0152\"],[0.1,\"#c51b7d\"],[0.2,\"#de77ae\"],[0.3,\"#f1b6da\"],[0.4,\"#fde0ef\"],[0.5,\"#f7f7f7\"],[0.6,\"#e6f5d0\"],[0.7,\"#b8e186\"],[0.8,\"#7fbc41\"],[0.9,\"#4d9221\"],[1,\"#276419\"]]},\"xaxis\":{\"gridcolor\":\"white\",\"linecolor\":\"white\",\"ticks\":\"\",\"title\":{\"standoff\":15},\"zerolinecolor\":\"white\",\"automargin\":true,\"zerolinewidth\":2},\"yaxis\":{\"gridcolor\":\"white\",\"linecolor\":\"white\",\"ticks\":\"\",\"title\":{\"standoff\":15},\"zerolinecolor\":\"white\",\"automargin\":true,\"zerolinewidth\":2},\"scene\":{\"xaxis\":{\"backgroundcolor\":\"#E5ECF6\",\"gridcolor\":\"white\",\"linecolor\":\"white\",\"showbackground\":true,\"ticks\":\"\",\"zerolinecolor\":\"white\",\"gridwidth\":2},\"yaxis\":{\"backgroundcolor\":\"#E5ECF6\",\"gridcolor\":\"white\",\"linecolor\":\"white\",\"showbackground\":true,\"ticks\":\"\",\"zerolinecolor\":\"white\",\"gridwidth\":2},\"zaxis\":{\"backgroundcolor\":\"#E5ECF6\",\"gridcolor\":\"white\",\"linecolor\":\"white\",\"showbackground\":true,\"ticks\":\"\",\"zerolinecolor\":\"white\",\"gridwidth\":2}},\"shapedefaults\":{\"line\":{\"color\":\"#2a3f5f\"}},\"annotationdefaults\":{\"arrowcolor\":\"#2a3f5f\",\"arrowhead\":0,\"arrowwidth\":1},\"geo\":{\"bgcolor\":\"white\",\"landcolor\":\"#E5ECF6\",\"subunitcolor\":\"white\",\"showland\":true,\"showlakes\":true,\"lakecolor\":\"white\"},\"title\":{\"x\":0.05},\"mapbox\":{\"style\":\"light\"}}},\"xaxis\":{\"anchor\":\"y\",\"domain\":[0.0,0.45],\"title\":{\"text\":\"Epoch\"}},\"yaxis\":{\"anchor\":\"x\",\"domain\":[0.625,1.0],\"title\":{\"text\":\"Loss\"}},\"xaxis2\":{\"anchor\":\"y2\",\"domain\":[0.55,1.0],\"title\":{\"text\":\"Epoch\"}},\"yaxis2\":{\"anchor\":\"x2\",\"domain\":[0.625,1.0],\"title\":{\"text\":\"Accuracy\"}},\"xaxis3\":{\"anchor\":\"y3\",\"domain\":[0.0,0.45],\"title\":{\"text\":\"Epoch\"}},\"yaxis3\":{\"anchor\":\"x3\",\"domain\":[0.0,0.375],\"title\":{\"text\":\"F1 Score\"}},\"xaxis4\":{\"anchor\":\"y4\",\"domain\":[0.55,1.0],\"title\":{\"text\":\"Epoch\"}},\"yaxis4\":{\"anchor\":\"x4\",\"domain\":[0.0,0.375],\"title\":{\"text\":\"ROC-AUC\"}},\"annotations\":[{\"font\":{\"size\":16},\"showarrow\":false,\"text\":\"Loss\",\"x\":0.225,\"xanchor\":\"center\",\"xref\":\"paper\",\"y\":1.0,\"yanchor\":\"bottom\",\"yref\":\"paper\"},{\"font\":{\"size\":16},\"showarrow\":false,\"text\":\"Accuracy\",\"x\":0.775,\"xanchor\":\"center\",\"xref\":\"paper\",\"y\":1.0,\"yanchor\":\"bottom\",\"yref\":\"paper\"},{\"font\":{\"size\":16},\"showarrow\":false,\"text\":\"F1 Score\",\"x\":0.225,\"xanchor\":\"center\",\"xref\":\"paper\",\"y\":0.375,\"yanchor\":\"bottom\",\"yref\":\"paper\"},{\"font\":{\"size\":16},\"showarrow\":false,\"text\":\"ROC-AUC\",\"x\":0.775,\"xanchor\":\"center\",\"xref\":\"paper\",\"y\":0.375,\"yanchor\":\"bottom\",\"yref\":\"paper\"}],\"title\":{\"text\":\"Model Training History\"},\"height\":700,\"width\":900,\"showlegend\":true},                        {\"responsive\": true}                    ).then(function(){\n",
              "                            \n",
              "var gd = document.getElementById('117b07bf-81a0-43cf-8480-21eb42b4a0f1');\n",
              "var x = new MutationObserver(function (mutations, observer) {{\n",
              "        var display = window.getComputedStyle(gd).display;\n",
              "        if (!display || display === 'none') {{\n",
              "            console.log([gd, 'removed!']);\n",
              "            Plotly.purge(gd);\n",
              "            observer.disconnect();\n",
              "        }}\n",
              "}});\n",
              "\n",
              "// Listen for the removal of the full notebook cells\n",
              "var notebookContainer = gd.closest('#notebook-container');\n",
              "if (notebookContainer) {{\n",
              "    x.observe(notebookContainer, {childList: true});\n",
              "}}\n",
              "\n",
              "// Listen for the clearing of the current output cell\n",
              "var outputEl = gd.closest('.output');\n",
              "if (outputEl) {{\n",
              "    x.observe(outputEl, {childList: true});\n",
              "}}\n",
              "\n",
              "                        })                };                            </script>        </div>\n",
              "</body>\n",
              "</html>"
            ]
          },
          "metadata": {},
          "output_type": "display_data"
        }
      ],
      "source": [
        "import plotly.graph_objs as go\n",
        "from plotly.subplots import make_subplots\n",
        "\n",
        "# Crea subplot 2x2\n",
        "fig = make_subplots(\n",
        "    rows=2, cols=2,\n",
        "    subplot_titles=(\"Loss\", \"Accuracy\", \"F1 Score\", \"ROC-AUC\")\n",
        ")\n",
        "\n",
        "epochs = list(range(1, len(stats) + 1))\n",
        "\n",
        "# Loss\n",
        "fig.add_trace(go.Scatter(x=epochs, y=[s['train_loss'] for s in stats], mode='lines', name='Training Loss'), row=1, col=1)\n",
        "fig.add_trace(go.Scatter(x=epochs, y=[s['val_loss'] for s in stats], mode='lines', name='Validation Loss'), row=1, col=1)\n",
        "\n",
        "# Accuracy\n",
        "fig.add_trace(go.Scatter(x=epochs, y=[s['train_acc'] for s in stats], mode='lines', name='Training Accuracy'), row=1, col=2)\n",
        "fig.add_trace(go.Scatter(x=epochs, y=[s['val_acc'] for s in stats], mode='lines', name='Validation Accuracy'), row=1, col=2)\n",
        "\n",
        "# F1 Score\n",
        "fig.add_trace(go.Scatter(x=epochs, y=[s['val_f1'] for s in stats], mode='lines', name='Validation F1'), row=2, col=1)\n",
        "\n",
        "# ROC-AUC\n",
        "fig.add_trace(go.Scatter(x=epochs, y=[s['val_roc_auc'] for s in stats], mode='lines', name='Validation ROC-AUC'), row=2, col=2)\n",
        "\n",
        "# Layout generale\n",
        "fig.update_layout(\n",
        "    title='Model Training History',\n",
        "    height=700,\n",
        "    width=900,\n",
        "    showlegend=True\n",
        ")\n",
        "\n",
        "# Aggiorna etichette assi\n",
        "fig.update_xaxes(title_text='Epoch', row=1, col=1)\n",
        "fig.update_xaxes(title_text='Epoch', row=1, col=2)\n",
        "fig.update_xaxes(title_text='Epoch', row=2, col=1)\n",
        "fig.update_xaxes(title_text='Epoch', row=2, col=2)\n",
        "\n",
        "fig.update_yaxes(title_text='Loss', row=1, col=1)\n",
        "fig.update_yaxes(title_text='Accuracy', row=1, col=2)\n",
        "fig.update_yaxes(title_text='F1 Score', row=2, col=1)\n",
        "fig.update_yaxes(title_text='ROC-AUC', row=2, col=2)\n",
        "\n",
        "fig.show()"
      ]
    },
    {
      "cell_type": "markdown",
      "metadata": {
        "id": "GmgYEC4kjMw9"
      },
      "source": [
        "Model's Prediction Samples"
      ]
    },
    {
      "cell_type": "code",
      "execution_count": 24,
      "metadata": {
        "id": "27thIdjY9Lzx"
      },
      "outputs": [],
      "source": [
        "from sklearn.metrics import roc_curve, auc\n",
        "import matplotlib.pyplot as plt\n",
        "\n",
        "def plot_roc_curve(model, dataloader, device):\n",
        "    model.eval()\n",
        "    all_labels = []\n",
        "    all_probs = []\n",
        "\n",
        "    with torch.no_grad():\n",
        "        for batch in dataloader:\n",
        "            input_ids, attention_mask, labels = [b.to(device) for b in batch]\n",
        "            outputs = model(input_ids, attention_mask)\n",
        "            probs = torch.softmax(outputs, dim=1)[:, 1]  # Probabilità classe positiva\n",
        "            all_probs.extend(probs.cpu().numpy())\n",
        "            all_labels.extend(labels.cpu().numpy())\n",
        "\n",
        "    fpr, tpr, thresholds = roc_curve(all_labels, all_probs)\n",
        "    roc_auc = auc(fpr, tpr)\n",
        "\n",
        "    plt.figure(figsize=(8, 6))\n",
        "    plt.plot(fpr, tpr, color='darkorange', lw=2, label=f'ROC curve (AUC = {roc_auc:.4f})')\n",
        "    plt.plot([0, 1], [0, 1], color='navy', lw=2, linestyle='--')\n",
        "    plt.xlabel('False Positive Rate')\n",
        "    plt.ylabel('True Positive Rate')\n",
        "    plt.title('Receiver Operating Characteristic (ROC)')\n",
        "    plt.legend(loc='lower right')\n",
        "    plt.grid(True)\n",
        "    plt.show()\n"
      ]
    },
    {
      "cell_type": "code",
      "execution_count": 25,
      "metadata": {
        "colab": {
          "base_uri": "https://localhost:8080/",
          "height": 564
        },
        "id": "qQvBYFUDitUm",
        "outputId": "ce9d1914-be57-4cda-ff94-6b9065920864"
      },
      "outputs": [
        {
          "data": {
            "image/png": "[encoded data removed]",
            "text/plain": [
              "<Figure size 800x600 with 1 Axes>"
            ]
          },
          "metadata": {},
          "output_type": "display_data"
        }
      ],
      "source": [
        "plot_roc_curve(trained_model, test_dataloader, device)"
      ]
    },
    {
      "cell_type": "code",
      "execution_count": 26,
      "metadata": {
        "id": "3dLeau2x-VWg"
      },
      "outputs": [],
      "source": [
        "import seaborn as sns\n",
        "import matplotlib.pyplot as plt\n",
        "import numpy as np\n",
        "\n",
        "def plot_normalized_confusion_matrix():\n",
        "    # Matrice normalizzata (valori tra 0 e 1)\n",
        "    cm_normalized = np.array([[0.25, 0.75],\n",
        "                              [0.11, 0.89]])\n",
        "\n",
        "    plt.figure(figsize=(8, 6))\n",
        "    sns.heatmap(cm_normalized, annot=True, cmap='viridis', cbar=True,\n",
        "                xticklabels=['Fake', 'True'], yticklabels=['Fake', 'True'],\n",
        "                fmt='.2f', square=True)\n",
        "\n",
        "    plt.xlabel('Predicted Label')\n",
        "    plt.ylabel('True Label')\n",
        "    plt.title('Normalized Confusion Matrix')\n",
        "    plt.tight_layout()\n",
        "    plt.show()\n"
      ]
    },
    {
      "cell_type": "code",
      "execution_count": 27,
      "metadata": {
        "colab": {
          "base_uri": "https://localhost:8080/",
          "height": 608
        },
        "id": "iXFYlTu3-Wvy",
        "outputId": "58c2b8fd-d288-4b14-809e-90003e7482d0"
      },
      "outputs": [
        {
          "data": {
            "image/png": "[encoded data removed]",
            "text/plain": [
              "<Figure size 800x600 with 2 Axes>"
            ]
          },
          "metadata": {},
          "output_type": "display_data"
        }
      ],
      "source": [
        "plot_normalized_confusion_matrix()"
      ]
    },
    {
      "cell_type": "code",
      "execution_count": 28,
      "metadata": {
        "colab": {
          "base_uri": "https://localhost:8080/"
        },
        "id": "cfc778ca",
        "outputId": "4c2eb1cd-79be-48e9-a883-73d6463336e4"
      },
      "outputs": [
        {
          "name": "stdout",
          "output_type": "stream",
          "text": [
            "Sample Predictions:\n",
            "Text: Building a wall on the U.S.-Mexico border will take literally years. immigration rick-perry Governor...\n",
            "Actual Label: 1, Predicted Label: 0, Probabilities: [0.7176089 0.2823911]\n",
            "--------------------\n",
            "Text: Over the past five years the federal government has paid out $601 million in retirement and disabili...\n",
            "Actual Label: 1, Predicted Label: 1, Probabilities: [0.37782198 0.62217796]\n",
            "--------------------\n",
            "Text: We know there are more Democrats in Georgia than Republicans. We know that for a fact. elections mik...\n",
            "Actual Label: 0, Predicted Label: 1, Probabilities: [0.28873166 0.71126837]\n",
            "--------------------\n",
            "Text: Says the unemployment rate for college graduates is 4.4 percent and over 10 percent for noncollege-e...\n",
            "Actual Label: 1, Predicted Label: 1, Probabilities: [0.28593484 0.7140652 ]\n",
            "--------------------\n",
            "Text: There have not been any public safety issues in cities that allow transgender people to use the bath...\n",
            "Actual Label: 1, Predicted Label: 0, Probabilities: [0.54082304 0.45917696]\n",
            "--------------------\n"
          ]
        }
      ],
      "source": [
        "def predict_sample(model, tokenizer, text, device):\n",
        "    model.eval()\n",
        "    encodings = tokenizer.encode_plus(\n",
        "        text,\n",
        "        max_length=256,\n",
        "        padding='max_length',\n",
        "        truncation=True,\n",
        "        return_attention_mask=True,\n",
        "        return_tensors='pt'\n",
        "    )\n",
        "    input_ids = encodings['input_ids'].to(device)\n",
        "    attention_mask = encodings['attention_mask'].to(device)\n",
        "\n",
        "    with torch.no_grad():\n",
        "        outputs = model(input_ids, attention_mask)\n",
        "        probs = torch.softmax(outputs, dim=1)\n",
        "        predicted_class = torch.argmax(probs, dim=1).item()\n",
        "        return predicted_class, probs.squeeze().cpu().numpy()\n",
        "\n",
        "# Get some sample texts from the test set\n",
        "sample_indices = [0, 5, 10, 15, 20]\n",
        "sample_texts = test_df.iloc[sample_indices]['combined_text'].tolist()\n",
        "sample_labels = test_df.iloc[sample_indices]['label'].tolist()\n",
        "\n",
        "print(\"Sample Predictions:\")\n",
        "for i, text in enumerate(sample_texts):\n",
        "    predicted_label, probabilities = predict_sample(trained_model, tokenizer, text, device)\n",
        "    print(f\"Text: {text[:100]}...\")\n",
        "    print(f\"Actual Label: {sample_labels[i]}, Predicted Label: {predicted_label}, Probabilities: {probabilities}\")\n",
        "    print(\"-\" * 20)"
      ]
    }
  ],
  "metadata": {
    "colab": {
      "provenance": []
    },
    "kernelspec": {
      "display_name": "base",
      "language": "python",
      "name": "python3"
    },
    "language_info": {
      "codemirror_mode": {
        "name": "ipython",
        "version": 3
      },
      "file_extension": ".py",
      "mimetype": "text/x-python",
      "name": "python",
      "nbconvert_exporter": "python",
      "pygments_lexer": "ipython3",
      "version": "3.12.2"
    },
    "widgets": {
      "application/vnd.jupyter.widget-state+json": {
        "061f4280a5f24fd5b31960955457fc0c": {
          "model_module": "@jupyter-widgets/controls",
          "model_module_version": "1.5.0",
          "model_name": "DescriptionStyleModel",
          "state": {
            "_model_module": "@jupyter-widgets/controls",
            "_model_module_version": "1.5.0",
            "_model_name": "DescriptionStyleModel",
            "_view_count": null,
            "_view_module": "@jupyter-widgets/base",
            "_view_module_version": "1.2.0",
            "_view_name": "StyleView",
            "description_width": ""
          }
        },
        "155beef1240c4a9899274c54abd0f4a1": {
          "model_module": "@jupyter-widgets/controls",
          "model_module_version": "1.5.0",
          "model_name": "HBoxModel",
          "state": {
            "_dom_classes": [],
            "_model_module": "@jupyter-widgets/controls",
            "_model_module_version": "1.5.0",
            "_model_name": "HBoxModel",
            "_view_count": null,
            "_view_module": "@jupyter-widgets/controls",
            "_view_module_version": "1.5.0",
            "_view_name": "HBoxView",
            "box_style": "",
            "children": [
              "IPY_MODEL_8637e5f409474aa5a1677e913b69004c",
              "IPY_MODEL_5e6c4b2a1c2845e38edec2fd9c7ea465",
              "IPY_MODEL_cc71b312616e45938ebfc6669c7b4e9f"
            ],
            "layout": "IPY_MODEL_3ffb5c13bdb64f18a098fb7e9bc52e10"
          }
        },
        "1e15ed308daa4b0196ba7b510669bf1a": {
          "model_module": "@jupyter-widgets/controls",
          "model_module_version": "1.5.0",
          "model_name": "DescriptionStyleModel",
          "state": {
            "_model_module": "@jupyter-widgets/controls",
            "_model_module_version": "1.5.0",
            "_model_name": "DescriptionStyleModel",
            "_view_count": null,
            "_view_module": "@jupyter-widgets/base",
            "_view_module_version": "1.2.0",
            "_view_name": "StyleView",
            "description_width": ""
          }
        },
        "3ffb5c13bdb64f18a098fb7e9bc52e10": {
          "model_module": "@jupyter-widgets/base",
          "model_module_version": "1.2.0",
          "model_name": "LayoutModel",
          "state": {
            "_model_module": "@jupyter-widgets/base",
            "_model_module_version": "1.2.0",
            "_model_name": "LayoutModel",
            "_view_count": null,
            "_view_module": "@jupyter-widgets/base",
            "_view_module_version": "1.2.0",
            "_view_name": "LayoutView",
            "align_content": null,
            "align_items": null,
            "align_self": null,
            "border": null,
            "bottom": null,
            "display": null,
            "flex": null,
            "flex_flow": null,
            "grid_area": null,
            "grid_auto_columns": null,
            "grid_auto_flow": null,
            "grid_auto_rows": null,
            "grid_column": null,
            "grid_gap": null,
            "grid_row": null,
            "grid_template_areas": null,
            "grid_template_columns": null,
            "grid_template_rows": null,
            "height": null,
            "justify_content": null,
            "justify_items": null,
            "left": null,
            "margin": null,
            "max_height": null,
            "max_width": null,
            "min_height": null,
            "min_width": null,
            "object_fit": null,
            "object_position": null,
            "order": null,
            "overflow": null,
            "overflow_x": null,
            "overflow_y": null,
            "padding": null,
            "right": null,
            "top": null,
            "visibility": null,
            "width": null
          }
        },
        "5e6c4b2a1c2845e38edec2fd9c7ea465": {
          "model_module": "@jupyter-widgets/controls",
          "model_module_version": "1.5.0",
          "model_name": "FloatProgressModel",
          "state": {
            "_dom_classes": [],
            "_model_module": "@jupyter-widgets/controls",
            "_model_module_version": "1.5.0",
            "_model_name": "FloatProgressModel",
            "_view_count": null,
            "_view_module": "@jupyter-widgets/controls",
            "_view_module_version": "1.5.0",
            "_view_name": "ProgressView",
            "bar_style": "success",
            "description": "",
            "description_tooltip": null,
            "layout": "IPY_MODEL_bf19264d76674a828c7afda23ff79261",
            "max": 267954768,
            "min": 0,
            "orientation": "horizontal",
            "style": "IPY_MODEL_ba4ca54d80504614849ae6deb20267d5",
            "value": 267954768
          }
        },
        "8637e5f409474aa5a1677e913b69004c": {
          "model_module": "@jupyter-widgets/controls",
          "model_module_version": "1.5.0",
          "model_name": "HTMLModel",
          "state": {
            "_dom_classes": [],
            "_model_module": "@jupyter-widgets/controls",
            "_model_module_version": "1.5.0",
            "_model_name": "HTMLModel",
            "_view_count": null,
            "_view_module": "@jupyter-widgets/controls",
            "_view_module_version": "1.5.0",
            "_view_name": "HTMLView",
            "description": "",
            "description_tooltip": null,
            "layout": "IPY_MODEL_cc20b43bae534763a1663335b16cff34",
            "placeholder": "​",
            "style": "IPY_MODEL_1e15ed308daa4b0196ba7b510669bf1a",
            "value": "model.safetensors: 100%"
          }
        },
        "8f451f90df854f7f83cb45517a4a07fa": {
          "model_module": "@jupyter-widgets/base",
          "model_module_version": "1.2.0",
          "model_name": "LayoutModel",
          "state": {
            "_model_module": "@jupyter-widgets/base",
            "_model_module_version": "1.2.0",
            "_model_name": "LayoutModel",
            "_view_count": null,
            "_view_module": "@jupyter-widgets/base",
            "_view_module_version": "1.2.0",
            "_view_name": "LayoutView",
            "align_content": null,
            "align_items": null,
            "align_self": null,
            "border": null,
            "bottom": null,
            "display": null,
            "flex": null,
            "flex_flow": null,
            "grid_area": null,
            "grid_auto_columns": null,
            "grid_auto_flow": null,
            "grid_auto_rows": null,
            "grid_column": null,
            "grid_gap": null,
            "grid_row": null,
            "grid_template_areas": null,
            "grid_template_columns": null,
            "grid_template_rows": null,
            "height": null,
            "justify_content": null,
            "justify_items": null,
            "left": null,
            "margin": null,
            "max_height": null,
            "max_width": null,
            "min_height": null,
            "min_width": null,
            "object_fit": null,
            "object_position": null,
            "order": null,
            "overflow": null,
            "overflow_x": null,
            "overflow_y": null,
            "padding": null,
            "right": null,
            "top": null,
            "visibility": null,
            "width": null
          }
        },
        "ba4ca54d80504614849ae6deb20267d5": {
          "model_module": "@jupyter-widgets/controls",
          "model_module_version": "1.5.0",
          "model_name": "ProgressStyleModel",
          "state": {
            "_model_module": "@jupyter-widgets/controls",
            "_model_module_version": "1.5.0",
            "_model_name": "ProgressStyleModel",
            "_view_count": null,
            "_view_module": "@jupyter-widgets/base",
            "_view_module_version": "1.2.0",
            "_view_name": "StyleView",
            "bar_color": null,
            "description_width": ""
          }
        },
        "bf19264d76674a828c7afda23ff79261": {
          "model_module": "@jupyter-widgets/base",
          "model_module_version": "1.2.0",
          "model_name": "LayoutModel",
          "state": {
            "_model_module": "@jupyter-widgets/base",
            "_model_module_version": "1.2.0",
            "_model_name": "LayoutModel",
            "_view_count": null,
            "_view_module": "@jupyter-widgets/base",
            "_view_module_version": "1.2.0",
            "_view_name": "LayoutView",
            "align_content": null,
            "align_items": null,
            "align_self": null,
            "border": null,
            "bottom": null,
            "display": null,
            "flex": null,
            "flex_flow": null,
            "grid_area": null,
            "grid_auto_columns": null,
            "grid_auto_flow": null,
            "grid_auto_rows": null,
            "grid_column": null,
            "grid_gap": null,
            "grid_row": null,
            "grid_template_areas": null,
            "grid_template_columns": null,
            "grid_template_rows": null,
            "height": null,
            "justify_content": null,
            "justify_items": null,
            "left": null,
            "margin": null,
            "max_height": null,
            "max_width": null,
            "min_height": null,
            "min_width": null,
            "object_fit": null,
            "object_position": null,
            "order": null,
            "overflow": null,
            "overflow_x": null,
            "overflow_y": null,
            "padding": null,
            "right": null,
            "top": null,
            "visibility": null,
            "width": null
          }
        },
        "cc20b43bae534763a1663335b16cff34": {
          "model_module": "@jupyter-widgets/base",
          "model_module_version": "1.2.0",
          "model_name": "LayoutModel",
          "state": {
            "_model_module": "@jupyter-widgets/base",
            "_model_module_version": "1.2.0",
            "_model_name": "LayoutModel",
            "_view_count": null,
            "_view_module": "@jupyter-widgets/base",
            "_view_module_version": "1.2.0",
            "_view_name": "LayoutView",
            "align_content": null,
            "align_items": null,
            "align_self": null,
            "border": null,
            "bottom": null,
            "display": null,
            "flex": null,
            "flex_flow": null,
            "grid_area": null,
            "grid_auto_columns": null,
            "grid_auto_flow": null,
            "grid_auto_rows": null,
            "grid_column": null,
            "grid_gap": null,
            "grid_row": null,
            "grid_template_areas": null,
            "grid_template_columns": null,
            "grid_template_rows": null,
            "height": null,
            "justify_content": null,
            "justify_items": null,
            "left": null,
            "margin": null,
            "max_height": null,
            "max_width": null,
            "min_height": null,
            "min_width": null,
            "object_fit": null,
            "object_position": null,
            "order": null,
            "overflow": null,
            "overflow_x": null,
            "overflow_y": null,
            "padding": null,
            "right": null,
            "top": null,
            "visibility": null,
            "width": null
          }
        },
        "cc71b312616e45938ebfc6669c7b4e9f": {
          "model_module": "@jupyter-widgets/controls",
          "model_module_version": "1.5.0",
          "model_name": "HTMLModel",
          "state": {
            "_dom_classes": [],
            "_model_module": "@jupyter-widgets/controls",
            "_model_module_version": "1.5.0",
            "_model_name": "HTMLModel",
            "_view_count": null,
            "_view_module": "@jupyter-widgets/controls",
            "_view_module_version": "1.5.0",
            "_view_name": "HTMLView",
            "description": "",
            "description_tooltip": null,
            "layout": "IPY_MODEL_8f451f90df854f7f83cb45517a4a07fa",
            "placeholder": "​",
            "style": "IPY_MODEL_061f4280a5f24fd5b31960955457fc0c",
            "value": " 268M/268M [00:07&lt;00:00, 38.4MB/s]"
          }
        }
      }
    }
  },
  "nbformat": 4,
  "nbformat_minor": 0
}
