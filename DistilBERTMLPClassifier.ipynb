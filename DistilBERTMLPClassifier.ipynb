{
  "cells": [
    {
      "cell_type": "code",
      "execution_count": 1,
      "metadata": {
        "id": "s2dIi7M6v5Ng"
      },
      "outputs": [],
      "source": [
        "import numpy as np\n",
        "import pandas as pd\n",
        "import torch\n",
        "from sklearn.preprocessing import MinMaxScaler\n",
        "from torch.utils.data import TensorDataset, DataLoader\n"
      ]
    },
    {
      "cell_type": "markdown",
      "metadata": {
        "id": "C__RNcOmzmIk"
      },
      "source": [
        "# Data Analysis\n",
        "\n",
        "We begin by loading the dataset and examining its distribution."
      ]
    },
    {
      "cell_type": "code",
      "execution_count": null,
      "metadata": {
        "id": "CdoCWw7Yv9LV"
      },
      "outputs": [],
      "source": [
        "# Dataset loading\n",
        "col_names = ['ID', 'label', 'statement', 'subject', 'speaker', 'speaker\\'s title', 'state', 'party', 'barely true', 'false', 'half true', 'mostly true', 'pants on fire', 'context', 'justification']\n",
        "train_df = pd.read_csv('data/train2.tsv', sep='\\t', names=col_names)\n",
        "test_df = pd.read_csv('data/test2.tsv', sep='\\t', names=col_names)\n",
        "val_df = pd.read_csv('data/val2.tsv', sep='\\t', names=col_names)\n",
        "\n",
        "train_df = train_df.fillna(0)\n",
        "test_df = test_df.fillna(0)\n",
        "val_df = val_df.fillna(0)"
      ]
    },
    {
      "cell_type": "code",
      "execution_count": 3,
      "metadata": {
        "colab": {
          "base_uri": "https://localhost:8080/",
          "height": 808
        },
        "id": "mWe_hmTGXrHQ",
        "outputId": "8e8a9c2f-0625-4009-86dc-181b63aaa0c1"
      },
      "outputs": [
        {
          "data": {
            "application/vnd.google.colaboratory.intrinsic+json": {
              "summary": "{\n  \"name\": \"train_df\",\n  \"rows\": 10240,\n  \"fields\": [\n    {\n      \"column\": \"ID\",\n      \"properties\": {\n        \"dtype\": \"string\",\n        \"num_unique_values\": 10240,\n        \"samples\": [\n          \"10626.json\",\n          \"1520.json\",\n          \"1326.json\"\n        ],\n        \"semantic_type\": \"\",\n        \"description\": \"\"\n      }\n    },\n    {\n      \"column\": \"label\",\n      \"properties\": {\n        \"dtype\": \"category\",\n        \"num_unique_values\": 6,\n        \"samples\": [\n          \"false\",\n          \"half-true\",\n          \"pants-fire\"\n        ],\n        \"semantic_type\": \"\",\n        \"description\": \"\"\n      }\n    },\n    {\n      \"column\": \"statement\",\n      \"properties\": {\n        \"dtype\": \"string\",\n        \"num_unique_values\": 10223,\n        \"samples\": [\n          \"Countries bombed: Obama 7, Bush 4\",\n          \"Says she couldn't take stimulus money because it required \\\"universal building codes.\\\"\",\n          \"In the past decade, K-12 funding has grown six times faster than the rate of enrollment.\"\n        ],\n        \"semantic_type\": \"\",\n        \"description\": \"\"\n      }\n    },\n    {\n      \"column\": \"subject\",\n      \"properties\": {\n        \"dtype\": \"category\",\n        \"num_unique_values\": 3828,\n        \"samples\": [\n          \"homeland-security,military,patriotism,states\",\n          \"city-budget,city-government,county-budget,county-government,taxes\",\n          \"corrections-and-updates,homeland-security,immigration,transportation\"\n        ],\n        \"semantic_type\": \"\",\n        \"description\": \"\"\n      }\n    },\n    {\n      \"column\": \"speaker\",\n      \"properties\": {\n        \"dtype\": \"category\",\n        \"num_unique_values\": 2911,\n        \"samples\": [\n          \"james-bennett\",\n          \"jerry-jones\",\n          \"al-cardenas\"\n        ],\n        \"semantic_type\": \"\",\n        \"description\": \"\"\n      }\n    },\n    {\n      \"column\": \"speaker's title\",\n      \"properties\": {\n        \"dtype\": \"category\",\n        \"num_unique_values\": 1184,\n        \"samples\": [\n          \"Editorial director, Huffington Post\",\n          \"El Paso County Commissioner \",\n          \"NFL Network analyst\"\n        ],\n        \"semantic_type\": \"\",\n        \"description\": \"\"\n      }\n    },\n    {\n      \"column\": \"state\",\n      \"properties\": {\n        \"dtype\": \"category\",\n        \"num_unique_values\": 84,\n        \"samples\": [\n          \"Virginia director, Coalition to Stop Gun Violence\",\n          \"Texas\",\n          \"Unknown\"\n        ],\n        \"semantic_type\": \"\",\n        \"description\": \"\"\n      }\n    },\n    {\n      \"column\": \"party\",\n      \"properties\": {\n        \"dtype\": \"category\",\n        \"num_unique_values\": 24,\n        \"samples\": [\n          \"libertarian\",\n          0,\n          \"republican\"\n        ],\n        \"semantic_type\": \"\",\n        \"description\": \"\"\n      }\n    },\n    {\n      \"column\": \"barely true\",\n      \"properties\": {\n        \"dtype\": \"number\",\n        \"std\": 18.97259574383102,\n        \"min\": 0.0,\n        \"max\": 70.0,\n        \"num_unique_values\": 30,\n        \"samples\": [\n          8.0,\n          13.0,\n          26.0\n        ],\n        \"semantic_type\": \"\",\n        \"description\": \"\"\n      }\n    },\n    {\n      \"column\": \"false\",\n      \"properties\": {\n        \"dtype\": \"number\",\n        \"std\": 24.111296091454296,\n        \"min\": 0.0,\n        \"max\": 114.0,\n        \"num_unique_values\": 30,\n        \"samples\": [\n          18.0,\n          43.0,\n          11.0\n        ],\n        \"semantic_type\": \"\",\n        \"description\": \"\"\n      }\n    },\n    {\n      \"column\": \"half true\",\n      \"properties\": {\n        \"dtype\": \"number\",\n        \"std\": 35.8438095755754,\n        \"min\": 0.0,\n        \"max\": 160.0,\n        \"num_unique_values\": 29,\n        \"samples\": [\n          12.0,\n          7.0,\n          38.0\n        ],\n        \"semantic_type\": \"\",\n        \"description\": \"\"\n      }\n    },\n    {\n      \"column\": \"mostly true\",\n      \"properties\": {\n        \"dtype\": \"number\",\n        \"std\": 36.14888654844411,\n        \"min\": 0.0,\n        \"max\": 163.0,\n        \"num_unique_values\": 27,\n        \"samples\": [\n          4.0,\n          6.0,\n          2.0\n        ],\n        \"semantic_type\": \"\",\n        \"description\": \"\"\n      }\n    },\n    {\n      \"column\": \"pants on fire\",\n      \"properties\": {\n        \"dtype\": \"number\",\n        \"std\": 16.12758487822142,\n        \"min\": 0.0,\n        \"max\": 105.0,\n        \"num_unique_values\": 20,\n        \"samples\": [\n          0.0,\n          6.0,\n          10.0\n        ],\n        \"semantic_type\": \"\",\n        \"description\": \"\"\n      }\n    },\n    {\n      \"column\": \"context\",\n      \"properties\": {\n        \"dtype\": \"category\",\n        \"num_unique_values\": 4346,\n        \"samples\": [\n          \"a series of campaign TV ads\",\n          \"remarks at a campaign fundraiser\",\n          \"an interview on Rhode Island Public Radio\"\n        ],\n        \"semantic_type\": \"\",\n        \"description\": \"\"\n      }\n    },\n    {\n      \"column\": \"justification\",\n      \"properties\": {\n        \"dtype\": \"string\",\n        \"num_unique_values\": 10146,\n        \"samples\": [\n          \"Poe said \\\"the costly medical device tax\\\" in the Obamacare law \\\"has led to the loss of thousands of jobs across the nation. \\\"News stories indicate more than 2,000 such cuts were planned or made partly because of the tax. An industry analyst has said that \\\"the tax is costing the industry thousands of jobs,\\\" but also told us that \\\"it's nearly impossible to determine if the tax alone was the cause of layoffs.\",\n          \"Legislators, prosecutors and victims advocates gave Deal fair warning that they would wage war if he didn't back off. Still, Deal pursued the change until public protest reached a fevered pitch. And while he didn't fight to help rapists or hurt victims, he invested his political capital as second-in-command in the state Senate on behalf of a law that weakened the rape shield act.\",\n          \"The general contours of the ad are accurate. As attorney general, Cortez Masto entered into a contingency-fee contract with Cohen Milstein for outside counsel on lawsuits filed against companies involved in the foreclosure crisis. She then received campaign contributions amounting to $2,650from at least six lawyers at the firm  technically thisis \\\"thousands,\\\" but the ad's vague language overplays the scale of those donations compared to her total haul. We take issue with the ad's \\\"sweetheart\\\" description of the deal, as the firm was chosen through a bidding process that was reviewed and approved externally. Lost in the ad is howthe extra help was sought amid budget cuts at the Attorney General's office, and Nevada benefited from the lawsuits.\"\n        ],\n        \"semantic_type\": \"\",\n        \"description\": \"\"\n      }\n    }\n  ]\n}",
              "type": "dataframe",
              "variable_name": "train_df"
            },
            "text/html": [
              "\n",
              "  <div id=\"df-8ce5b5bd-f428-419c-8005-b4976df80ac9\" class=\"colab-df-container\">\n",
              "    <div>\n",
              "<style scoped>\n",
              "    .dataframe tbody tr th:only-of-type {\n",
              "        vertical-align: middle;\n",
              "    }\n",
              "\n",
              "    .dataframe tbody tr th {\n",
              "        vertical-align: top;\n",
              "    }\n",
              "\n",
              "    .dataframe thead th {\n",
              "        text-align: right;\n",
              "    }\n",
              "</style>\n",
              "<table border=\"1\" class=\"dataframe\">\n",
              "  <thead>\n",
              "    <tr style=\"text-align: right;\">\n",
              "      <th></th>\n",
              "      <th>ID</th>\n",
              "      <th>label</th>\n",
              "      <th>statement</th>\n",
              "      <th>subject</th>\n",
              "      <th>speaker</th>\n",
              "      <th>speaker's title</th>\n",
              "      <th>state</th>\n",
              "      <th>party</th>\n",
              "      <th>barely true</th>\n",
              "      <th>false</th>\n",
              "      <th>half true</th>\n",
              "      <th>mostly true</th>\n",
              "      <th>pants on fire</th>\n",
              "      <th>context</th>\n",
              "      <th>justification</th>\n",
              "    </tr>\n",
              "  </thead>\n",
              "  <tbody>\n",
              "    <tr>\n",
              "      <th>0</th>\n",
              "      <td>2635.json</td>\n",
              "      <td>false</td>\n",
              "      <td>Says the Annies List political group supports ...</td>\n",
              "      <td>abortion</td>\n",
              "      <td>dwayne-bohac</td>\n",
              "      <td>State representative</td>\n",
              "      <td>Texas</td>\n",
              "      <td>republican</td>\n",
              "      <td>0.0</td>\n",
              "      <td>1.0</td>\n",
              "      <td>0.0</td>\n",
              "      <td>0.0</td>\n",
              "      <td>0.0</td>\n",
              "      <td>a mailer</td>\n",
              "      <td>That's a premise that he fails to back up. Ann...</td>\n",
              "    </tr>\n",
              "    <tr>\n",
              "      <th>1</th>\n",
              "      <td>10540.json</td>\n",
              "      <td>half-true</td>\n",
              "      <td>When did the decline of coal start? It started...</td>\n",
              "      <td>energy,history,job-accomplishments</td>\n",
              "      <td>scott-surovell</td>\n",
              "      <td>State delegate</td>\n",
              "      <td>Virginia</td>\n",
              "      <td>democrat</td>\n",
              "      <td>0.0</td>\n",
              "      <td>0.0</td>\n",
              "      <td>1.0</td>\n",
              "      <td>1.0</td>\n",
              "      <td>0.0</td>\n",
              "      <td>a floor speech.</td>\n",
              "      <td>Surovell said the decline of coal \"started whe...</td>\n",
              "    </tr>\n",
              "    <tr>\n",
              "      <th>2</th>\n",
              "      <td>324.json</td>\n",
              "      <td>mostly-true</td>\n",
              "      <td>Hillary Clinton agrees with John McCain \"by vo...</td>\n",
              "      <td>foreign-policy</td>\n",
              "      <td>barack-obama</td>\n",
              "      <td>President</td>\n",
              "      <td>Illinois</td>\n",
              "      <td>democrat</td>\n",
              "      <td>70.0</td>\n",
              "      <td>71.0</td>\n",
              "      <td>160.0</td>\n",
              "      <td>163.0</td>\n",
              "      <td>9.0</td>\n",
              "      <td>Denver</td>\n",
              "      <td>Obama said he would have voted against the ame...</td>\n",
              "    </tr>\n",
              "    <tr>\n",
              "      <th>3</th>\n",
              "      <td>1123.json</td>\n",
              "      <td>false</td>\n",
              "      <td>Health care reform legislation is likely to ma...</td>\n",
              "      <td>health-care</td>\n",
              "      <td>blog-posting</td>\n",
              "      <td>0</td>\n",
              "      <td>0</td>\n",
              "      <td>none</td>\n",
              "      <td>7.0</td>\n",
              "      <td>19.0</td>\n",
              "      <td>3.0</td>\n",
              "      <td>5.0</td>\n",
              "      <td>44.0</td>\n",
              "      <td>a news release</td>\n",
              "      <td>The release may have a point that Mikulskis co...</td>\n",
              "    </tr>\n",
              "    <tr>\n",
              "      <th>4</th>\n",
              "      <td>9028.json</td>\n",
              "      <td>half-true</td>\n",
              "      <td>The economic turnaround started at the end of ...</td>\n",
              "      <td>economy,jobs</td>\n",
              "      <td>charlie-crist</td>\n",
              "      <td>0</td>\n",
              "      <td>Florida</td>\n",
              "      <td>democrat</td>\n",
              "      <td>15.0</td>\n",
              "      <td>9.0</td>\n",
              "      <td>20.0</td>\n",
              "      <td>19.0</td>\n",
              "      <td>2.0</td>\n",
              "      <td>an interview on CNN</td>\n",
              "      <td>Crist said that the economic \"turnaround start...</td>\n",
              "    </tr>\n",
              "  </tbody>\n",
              "</table>\n",
              "</div>\n",
              "    <div class=\"colab-df-buttons\">\n",
              "\n",
              "  <div class=\"colab-df-container\">\n",
              "    <button class=\"colab-df-convert\" onclick=\"convertToInteractive('df-8ce5b5bd-f428-419c-8005-b4976df80ac9')\"\n",
              "            title=\"Convert this dataframe to an interactive table.\"\n",
              "            style=\"display:none;\">\n",
              "\n",
              "  <svg xmlns=\"http://www.w3.org/2000/svg\" height=\"24px\" viewBox=\"0 -960 960 960\">\n",
              "    <path d=\"M120-120v-720h720v720H120Zm60-500h600v-160H180v160Zm220 220h160v-160H400v160Zm0 220h160v-160H400v160ZM180-400h160v-160H180v160Zm440 0h160v-160H620v160ZM180-180h160v-160H180v160Zm440 0h160v-160H620v160Z\"/>\n",
              "  </svg>\n",
              "    </button>\n",
              "\n",
              "  <style>\n",
              "    .colab-df-container {\n",
              "      display:flex;\n",
              "      gap: 12px;\n",
              "    }\n",
              "\n",
              "    .colab-df-convert {\n",
              "      background-color: #E8F0FE;\n",
              "      border: none;\n",
              "      border-radius: 50%;\n",
              "      cursor: pointer;\n",
              "      display: none;\n",
              "      fill: #1967D2;\n",
              "      height: 32px;\n",
              "      padding: 0 0 0 0;\n",
              "      width: 32px;\n",
              "    }\n",
              "\n",
              "    .colab-df-convert:hover {\n",
              "      background-color: #E2EBFA;\n",
              "      box-shadow: 0px 1px 2px rgba(60, 64, 67, 0.3), 0px 1px 3px 1px rgba(60, 64, 67, 0.15);\n",
              "      fill: #174EA6;\n",
              "    }\n",
              "\n",
              "    .colab-df-buttons div {\n",
              "      margin-bottom: 4px;\n",
              "    }\n",
              "\n",
              "    [theme=dark] .colab-df-convert {\n",
              "      background-color: #3B4455;\n",
              "      fill: #D2E3FC;\n",
              "    }\n",
              "\n",
              "    [theme=dark] .colab-df-convert:hover {\n",
              "      background-color: #434B5C;\n",
              "      box-shadow: 0px 1px 3px 1px rgba(0, 0, 0, 0.15);\n",
              "      filter: drop-shadow(0px 1px 2px rgba(0, 0, 0, 0.3));\n",
              "      fill: #FFFFFF;\n",
              "    }\n",
              "  </style>\n",
              "\n",
              "    <script>\n",
              "      const buttonEl =\n",
              "        document.querySelector('#df-8ce5b5bd-f428-419c-8005-b4976df80ac9 button.colab-df-convert');\n",
              "      buttonEl.style.display =\n",
              "        google.colab.kernel.accessAllowed ? 'block' : 'none';\n",
              "\n",
              "      async function convertToInteractive(key) {\n",
              "        const element = document.querySelector('#df-8ce5b5bd-f428-419c-8005-b4976df80ac9');\n",
              "        const dataTable =\n",
              "          await google.colab.kernel.invokeFunction('convertToInteractive',\n",
              "                                                    [key], {});\n",
              "        if (!dataTable) return;\n",
              "\n",
              "        const docLinkHtml = 'Like what you see? Visit the ' +\n",
              "          '<a target=\"_blank\" href=https://colab.research.google.com/notebooks/data_table.ipynb>data table notebook</a>'\n",
              "          + ' to learn more about interactive tables.';\n",
              "        element.innerHTML = '';\n",
              "        dataTable['output_type'] = 'display_data';\n",
              "        await google.colab.output.renderOutput(dataTable, element);\n",
              "        const docLink = document.createElement('div');\n",
              "        docLink.innerHTML = docLinkHtml;\n",
              "        element.appendChild(docLink);\n",
              "      }\n",
              "    </script>\n",
              "  </div>\n",
              "\n",
              "\n",
              "    <div id=\"df-e0010b17-600c-4fa1-a00a-5b92535b4b2c\">\n",
              "      <button class=\"colab-df-quickchart\" onclick=\"quickchart('df-e0010b17-600c-4fa1-a00a-5b92535b4b2c')\"\n",
              "                title=\"Suggest charts\"\n",
              "                style=\"display:none;\">\n",
              "\n",
              "<svg xmlns=\"http://www.w3.org/2000/svg\" height=\"24px\"viewBox=\"0 0 24 24\"\n",
              "     width=\"24px\">\n",
              "    <g>\n",
              "        <path d=\"M19 3H5c-1.1 0-2 .9-2 2v14c0 1.1.9 2 2 2h14c1.1 0 2-.9 2-2V5c0-1.1-.9-2-2-2zM9 17H7v-7h2v7zm4 0h-2V7h2v10zm4 0h-2v-4h2v4z\"/>\n",
              "    </g>\n",
              "</svg>\n",
              "      </button>\n",
              "\n",
              "<style>\n",
              "  .colab-df-quickchart {\n",
              "      --bg-color: #E8F0FE;\n",
              "      --fill-color: #1967D2;\n",
              "      --hover-bg-color: #E2EBFA;\n",
              "      --hover-fill-color: #174EA6;\n",
              "      --disabled-fill-color: #AAA;\n",
              "      --disabled-bg-color: #DDD;\n",
              "  }\n",
              "\n",
              "  [theme=dark] .colab-df-quickchart {\n",
              "      --bg-color: #3B4455;\n",
              "      --fill-color: #D2E3FC;\n",
              "      --hover-bg-color: #434B5C;\n",
              "      --hover-fill-color: #FFFFFF;\n",
              "      --disabled-bg-color: #3B4455;\n",
              "      --disabled-fill-color: #666;\n",
              "  }\n",
              "\n",
              "  .colab-df-quickchart {\n",
              "    background-color: var(--bg-color);\n",
              "    border: none;\n",
              "    border-radius: 50%;\n",
              "    cursor: pointer;\n",
              "    display: none;\n",
              "    fill: var(--fill-color);\n",
              "    height: 32px;\n",
              "    padding: 0;\n",
              "    width: 32px;\n",
              "  }\n",
              "\n",
              "  .colab-df-quickchart:hover {\n",
              "    background-color: var(--hover-bg-color);\n",
              "    box-shadow: 0 1px 2px rgba(60, 64, 67, 0.3), 0 1px 3px 1px rgba(60, 64, 67, 0.15);\n",
              "    fill: var(--button-hover-fill-color);\n",
              "  }\n",
              "\n",
              "  .colab-df-quickchart-complete:disabled,\n",
              "  .colab-df-quickchart-complete:disabled:hover {\n",
              "    background-color: var(--disabled-bg-color);\n",
              "    fill: var(--disabled-fill-color);\n",
              "    box-shadow: none;\n",
              "  }\n",
              "\n",
              "  .colab-df-spinner {\n",
              "    border: 2px solid var(--fill-color);\n",
              "    border-color: transparent;\n",
              "    border-bottom-color: var(--fill-color);\n",
              "    animation:\n",
              "      spin 1s steps(1) infinite;\n",
              "  }\n",
              "\n",
              "  @keyframes spin {\n",
              "    0% {\n",
              "      border-color: transparent;\n",
              "      border-bottom-color: var(--fill-color);\n",
              "      border-left-color: var(--fill-color);\n",
              "    }\n",
              "    20% {\n",
              "      border-color: transparent;\n",
              "      border-left-color: var(--fill-color);\n",
              "      border-top-color: var(--fill-color);\n",
              "    }\n",
              "    30% {\n",
              "      border-color: transparent;\n",
              "      border-left-color: var(--fill-color);\n",
              "      border-top-color: var(--fill-color);\n",
              "      border-right-color: var(--fill-color);\n",
              "    }\n",
              "    40% {\n",
              "      border-color: transparent;\n",
              "      border-right-color: var(--fill-color);\n",
              "      border-top-color: var(--fill-color);\n",
              "    }\n",
              "    60% {\n",
              "      border-color: transparent;\n",
              "      border-right-color: var(--fill-color);\n",
              "    }\n",
              "    80% {\n",
              "      border-color: transparent;\n",
              "      border-right-color: var(--fill-color);\n",
              "      border-bottom-color: var(--fill-color);\n",
              "    }\n",
              "    90% {\n",
              "      border-color: transparent;\n",
              "      border-bottom-color: var(--fill-color);\n",
              "    }\n",
              "  }\n",
              "</style>\n",
              "\n",
              "      <script>\n",
              "        async function quickchart(key) {\n",
              "          const quickchartButtonEl =\n",
              "            document.querySelector('#' + key + ' button');\n",
              "          quickchartButtonEl.disabled = true;  // To prevent multiple clicks.\n",
              "          quickchartButtonEl.classList.add('colab-df-spinner');\n",
              "          try {\n",
              "            const charts = await google.colab.kernel.invokeFunction(\n",
              "                'suggestCharts', [key], {});\n",
              "          } catch (error) {\n",
              "            console.error('Error during call to suggestCharts:', error);\n",
              "          }\n",
              "          quickchartButtonEl.classList.remove('colab-df-spinner');\n",
              "          quickchartButtonEl.classList.add('colab-df-quickchart-complete');\n",
              "        }\n",
              "        (() => {\n",
              "          let quickchartButtonEl =\n",
              "            document.querySelector('#df-e0010b17-600c-4fa1-a00a-5b92535b4b2c button');\n",
              "          quickchartButtonEl.style.display =\n",
              "            google.colab.kernel.accessAllowed ? 'block' : 'none';\n",
              "        })();\n",
              "      </script>\n",
              "    </div>\n",
              "\n",
              "    </div>\n",
              "  </div>\n"
            ],
            "text/plain": [
              "           ID        label                                          statement  \\\n",
              "0   2635.json        false  Says the Annies List political group supports ...   \n",
              "1  10540.json    half-true  When did the decline of coal start? It started...   \n",
              "2    324.json  mostly-true  Hillary Clinton agrees with John McCain \"by vo...   \n",
              "3   1123.json        false  Health care reform legislation is likely to ma...   \n",
              "4   9028.json    half-true  The economic turnaround started at the end of ...   \n",
              "\n",
              "                              subject         speaker       speaker's title  \\\n",
              "0                            abortion    dwayne-bohac  State representative   \n",
              "1  energy,history,job-accomplishments  scott-surovell        State delegate   \n",
              "2                      foreign-policy    barack-obama             President   \n",
              "3                         health-care    blog-posting                     0   \n",
              "4                        economy,jobs   charlie-crist                     0   \n",
              "\n",
              "      state       party  barely true  false  half true  mostly true  \\\n",
              "0     Texas  republican          0.0    1.0        0.0          0.0   \n",
              "1  Virginia    democrat          0.0    0.0        1.0          1.0   \n",
              "2  Illinois    democrat         70.0   71.0      160.0        163.0   \n",
              "3         0        none          7.0   19.0        3.0          5.0   \n",
              "4   Florida    democrat         15.0    9.0       20.0         19.0   \n",
              "\n",
              "   pants on fire              context  \\\n",
              "0            0.0             a mailer   \n",
              "1            0.0      a floor speech.   \n",
              "2            9.0               Denver   \n",
              "3           44.0       a news release   \n",
              "4            2.0  an interview on CNN   \n",
              "\n",
              "                                       justification  \n",
              "0  That's a premise that he fails to back up. Ann...  \n",
              "1  Surovell said the decline of coal \"started whe...  \n",
              "2  Obama said he would have voted against the ame...  \n",
              "3  The release may have a point that Mikulskis co...  \n",
              "4  Crist said that the economic \"turnaround start...  "
            ]
          },
          "execution_count": 3,
          "metadata": {},
          "output_type": "execute_result"
        }
      ],
      "source": [
        "train_df.head()"
      ]
    },
    {
      "cell_type": "code",
      "execution_count": 4,
      "metadata": {
        "colab": {
          "base_uri": "https://localhost:8080/",
          "height": 384
        },
        "id": "-TGRGYHVXtkA",
        "outputId": "f2088b85-703d-4b03-a80e-13d303082339"
      },
      "outputs": [
        {
          "data": {
            "text/html": [
              "<div>\n",
              "<style scoped>\n",
              "    .dataframe tbody tr th:only-of-type {\n",
              "        vertical-align: middle;\n",
              "    }\n",
              "\n",
              "    .dataframe tbody tr th {\n",
              "        vertical-align: top;\n",
              "    }\n",
              "\n",
              "    .dataframe thead th {\n",
              "        text-align: right;\n",
              "    }\n",
              "</style>\n",
              "<table border=\"1\" class=\"dataframe\">\n",
              "  <thead>\n",
              "    <tr style=\"text-align: right;\">\n",
              "      <th></th>\n",
              "      <th>count</th>\n",
              "    </tr>\n",
              "    <tr>\n",
              "      <th>label</th>\n",
              "      <th></th>\n",
              "    </tr>\n",
              "  </thead>\n",
              "  <tbody>\n",
              "    <tr>\n",
              "      <th>half-true</th>\n",
              "      <td>2114</td>\n",
              "    </tr>\n",
              "    <tr>\n",
              "      <th>false</th>\n",
              "      <td>1995</td>\n",
              "    </tr>\n",
              "    <tr>\n",
              "      <th>mostly-true</th>\n",
              "      <td>1962</td>\n",
              "    </tr>\n",
              "    <tr>\n",
              "      <th>true</th>\n",
              "      <td>1676</td>\n",
              "    </tr>\n",
              "    <tr>\n",
              "      <th>barely-true</th>\n",
              "      <td>1654</td>\n",
              "    </tr>\n",
              "    <tr>\n",
              "      <th>pants-fire</th>\n",
              "      <td>839</td>\n",
              "    </tr>\n",
              "  </tbody>\n",
              "</table>\n",
              "</div><br><label><b>dtype:</b> int64</label>"
            ],
            "text/plain": [
              "label\n",
              "half-true      2114\n",
              "false          1995\n",
              "mostly-true    1962\n",
              "true           1676\n",
              "barely-true    1654\n",
              "pants-fire      839\n",
              "Name: count, dtype: int64"
            ]
          },
          "execution_count": 4,
          "metadata": {},
          "output_type": "execute_result"
        }
      ],
      "source": [
        "train_df['label'].value_counts()"
      ]
    },
    {
      "cell_type": "code",
      "execution_count": 5,
      "metadata": {
        "colab": {
          "base_uri": "https://localhost:8080/"
        },
        "id": "qDIksClWXvTN",
        "outputId": "18aa43b2-ccf9-4ef2-c12a-4717e1705abd"
      },
      "outputs": [
        {
          "name": "stdout",
          "output_type": "stream",
          "text": [
            "Number of datapoints are 10240\n",
            "Shape of df is (10240, 15)\n",
            "<class 'pandas.core.frame.DataFrame'>\n",
            "RangeIndex: 10240 entries, 0 to 10239\n",
            "Data columns (total 15 columns):\n",
            " #   Column           Non-Null Count  Dtype  \n",
            "---  ------           --------------  -----  \n",
            " 0   ID               10240 non-null  object \n",
            " 1   label            10240 non-null  object \n",
            " 2   statement        10240 non-null  object \n",
            " 3   subject          10240 non-null  object \n",
            " 4   speaker          10240 non-null  object \n",
            " 5   speaker's title  10240 non-null  object \n",
            " 6   state            10240 non-null  object \n",
            " 7   party            10240 non-null  object \n",
            " 8   barely true      10240 non-null  float64\n",
            " 9   false            10240 non-null  float64\n",
            " 10  half true        10240 non-null  float64\n",
            " 11  mostly true      10240 non-null  float64\n",
            " 12  pants on fire    10240 non-null  float64\n",
            " 13  context          10240 non-null  object \n",
            " 14  justification    10240 non-null  object \n",
            "dtypes: float64(5), object(10)\n",
            "memory usage: 1.2+ MB\n"
          ]
        }
      ],
      "source": [
        "print(f'Number of datapoints are {len(train_df)}')\n",
        "print(f'Shape of df is {train_df.shape}')\n",
        "train_df.info()"
      ]
    },
    {
      "cell_type": "code",
      "execution_count": 6,
      "metadata": {
        "colab": {
          "base_uri": "https://localhost:8080/",
          "height": 504
        },
        "id": "EJtWvQliXy3E",
        "outputId": "6327b177-e541-4aab-d2c5-15ddebfc83d2"
      },
      "outputs": [
        {
          "data": {
            "text/plain": [
              "<matplotlib.legend.Legend at 0x7bcda4fd1cd0>"
            ]
          },
          "execution_count": 6,
          "metadata": {},
          "output_type": "execute_result"
        },
        {
          "data": {
            "image/png": "[encoded data removed]",
            "text/plain": [
              "<Figure size 400x400 with 1 Axes>"
            ]
          },
          "metadata": {},
          "output_type": "display_data"
        }
      ],
      "source": [
        "train_df[\"label\"].value_counts().head(7).plot(kind = 'pie', autopct='%1.1f%%', figsize=(4, 4)).legend(bbox_to_anchor=(1, 1))"
      ]
    },
    {
      "cell_type": "markdown",
      "metadata": {
        "id": "z5OAmQmj0LwN"
      },
      "source": [
        "Overall, the class labels appear relatively balanced, with the exception of the \"Pants on Fire\" category, which is underrepresented compared to the others."
      ]
    },
    {
      "cell_type": "markdown",
      "metadata": {
        "id": "SiTwQY0o0t_w"
      },
      "source": [
        "# Data Preparation\n",
        "\n",
        "We prepare the textual data before training the model.\n",
        "The preprocessing step involves cleaning the text.\n",
        "Afterwards, the original labels (true, half-true, pants-fire, etc.) are\n",
        "encoded into a binary format, distinguishing between \"True\" and \"False\".\n",
        "Finally, we explore the distribution of labels in the training set through\n",
        "visualizations to check for potential class imbalance."
      ]
    },
    {
      "cell_type": "code",
      "execution_count": 7,
      "metadata": {
        "colab": {
          "base_uri": "https://localhost:8080/"
        },
        "id": "Q5HpiO2Y1h4l",
        "outputId": "c495110f-8846-4270-dc95-e04c53b214fb"
      },
      "outputs": [
        {
          "name": "stderr",
          "output_type": "stream",
          "text": [
            "/usr/local/lib/python3.12/dist-packages/huggingface_hub/utils/_auth.py:94: UserWarning: \n",
            "The secret `HF_TOKEN` does not exist in your Colab secrets.\n",
            "To authenticate with the Hugging Face Hub, create a token in your settings tab (https://huggingface.co/settings/tokens), set it as secret in your Google Colab and restart your session.\n",
            "You will be able to reuse this secret in all of your notebooks.\n",
            "Please note that authentication is recommended but still optional to access public models or datasets.\n",
            "  warnings.warn(\n"
          ]
        }
      ],
      "source": [
        "import pandas as pd\n",
        "import matplotlib.pyplot as plt\n",
        "import seaborn as sns\n",
        "import re\n",
        "from transformers import DistilBertTokenizerFast\n",
        "tokenizer = DistilBertTokenizerFast.from_pretrained('distilbert-base-uncased', do_lower_case=True, use_auth_token=None)"
      ]
    },
    {
      "cell_type": "code",
      "execution_count": 8,
      "metadata": {
        "id": "PuBmkl1N1Ais"
      },
      "outputs": [],
      "source": [
        "# Encoding labels\n",
        "def encode_labels(df):\n",
        "    df['label'] = df['label'].map({\n",
        "        'true': 1, 'mostly-true': 1, 'half-true': 1,\n",
        "        'false': 0, 'barely-true': 0, 'pants-fire': 0\n",
        "    })\n",
        "    return df\n",
        "\n",
        "train_df = encode_labels(train_df)\n",
        "val_df = encode_labels(val_df)\n",
        "test_df = encode_labels(test_df)"
      ]
    },
    {
      "cell_type": "code",
      "execution_count": 9,
      "metadata": {
        "colab": {
          "base_uri": "https://localhost:8080/"
        },
        "id": "5zpctZtQY2-9",
        "outputId": "b7f3b267-913f-48ec-d204-3c29964a0fd7"
      },
      "outputs": [
        {
          "name": "stdout",
          "output_type": "stream",
          "text": [
            "Label distribution in the Train set:\n",
            "False: 4488 example\n",
            "True: 5752 example\n"
          ]
        }
      ],
      "source": [
        "label_counts = train_df['label'].value_counts()\n",
        "\n",
        "print(\"Label distribution in the Train set:\")\n",
        "print(f\"False: {label_counts.get(0, 0)} example\")\n",
        "print(f\"True: {label_counts.get(1, 0)} example\")\n"
      ]
    },
    {
      "cell_type": "markdown",
      "metadata": {
        "id": "j-9X3Xnz2Qxa"
      },
      "source": [
        "The dataset is not perfectly balanced, because the True class represents about 56% of the examples while the False class represents about 44%."
      ]
    },
    {
      "cell_type": "markdown",
      "metadata": {
        "id": "M8ayoaME3Fbe"
      },
      "source": [
        "## Metadata combination\n",
        "In this step, in addition to the main statement, the metadata associated with each example—such as the subject, speaker, role, state, party, and context, are incorporated. This approach allows the model to access not only the textual content of the statement but also contextual information, which can be useful for better classifying the veracity of the claim."
      ]
    },
    {
      "cell_type": "code",
      "execution_count": 10,
      "metadata": {
        "id": "uo185h-bLy1d"
      },
      "outputs": [],
      "source": [
        "# Combine text e metadata\n",
        "def combine_text_and_metadata(df):\n",
        "    meta = []\n",
        "    for i in range(len(df)):\n",
        "        subject = df['subject'][i] if df['subject'][i] != 0 else 'None'\n",
        "        speaker = df['speaker'][i] if df['speaker'][i] != 0 else 'None'\n",
        "        job = df[\"speaker's title\"][i] if df[\"speaker's title\"][i] != 0 else 'None'\n",
        "        state = df['state'][i] if df['state'][i] != 0 else 'None'\n",
        "        party = df['party'][i] if df['party'][i] != 0 else 'None'\n",
        "        context = df['context'][i] if df['context'][i] != 0 else 'None'\n",
        "        meta_text = f\"{subject} {speaker} {job} {state} {party} {context}\"\n",
        "        meta.append(meta_text)\n",
        "    df['combined_text'] = df['statement'].astype(str) + \" \" + pd.Series(meta)\n",
        "    return df\n"
      ]
    },
    {
      "cell_type": "code",
      "execution_count": 11,
      "metadata": {
        "id": "vXOzJsYlL0cU"
      },
      "outputs": [],
      "source": [
        "train_df = combine_text_and_metadata(train_df)\n",
        "val_df = combine_text_and_metadata(val_df)\n",
        "test_df = combine_text_and_metadata(test_df)\n"
      ]
    },
    {
      "cell_type": "markdown",
      "metadata": {
        "id": "tyayng0q3xND"
      },
      "source": [
        "# Data Cleaning and Tokenization\n",
        "\n",
        "\n",
        "We prepare the textual data before training the model.\n",
        "The preprocessing step involves cleaning the text."
      ]
    },
    {
      "cell_type": "code",
      "execution_count": 12,
      "metadata": {
        "id": "MzB9BX9m3-S1"
      },
      "outputs": [],
      "source": [
        "# Pre-processing\n",
        "def preprocess_text(texts):\n",
        "    processed = []\n",
        "    for text in texts:\n",
        "        text = str(text).lower()\n",
        "        text = re.sub(r'http\\S+|www\\S+|https\\S+', '', text)\n",
        "        text = re.sub(r'@\\w+', '', text)\n",
        "        text = re.sub(r'#\\w+', '', text)\n",
        "        text = re.sub(r'[^\\w\\s]', '', text)\n",
        "        processed.append(text.strip())\n",
        "    return processed"
      ]
    },
    {
      "cell_type": "code",
      "execution_count": 13,
      "metadata": {
        "id": "sbMDSuIbwEPq"
      },
      "outputs": [],
      "source": [
        "# Tokenization\n",
        "tokenizer = DistilBertTokenizerFast.from_pretrained('distilbert-base-uncased', do_lower_case=True)\n",
        "\n",
        "def tokenize_data(df, tokenizer, max_len=256):\n",
        "    texts = preprocess_text(df['combined_text'])\n",
        "    encodings = tokenizer.batch_encode_plus(\n",
        "        texts,\n",
        "        max_length=max_len,\n",
        "        padding='max_length',\n",
        "        truncation=True,\n",
        "        return_attention_mask=True,\n",
        "        return_tensors='pt'\n",
        "    )\n",
        "    return encodings\n",
        "\n",
        "train_encodings = tokenize_data(train_df, tokenizer)\n",
        "val_encodings = tokenize_data(val_df, tokenizer)\n",
        "test_encodings = tokenize_data(test_df, tokenizer)"
      ]
    },
    {
      "cell_type": "code",
      "execution_count": 14,
      "metadata": {
        "id": "2siAX9ZGu1OT"
      },
      "outputs": [],
      "source": [
        "# Creation dataset\n",
        "train_dataset = TensorDataset(\n",
        "    train_encodings['input_ids'],\n",
        "    train_encodings['attention_mask'],\n",
        "    torch.tensor(train_df['label'].values).long()\n",
        ")\n",
        "\n",
        "val_dataset = TensorDataset(\n",
        "    val_encodings['input_ids'],\n",
        "    val_encodings['attention_mask'],\n",
        "    torch.tensor(val_df['label'].values).long()\n",
        ")\n",
        "\n",
        "test_dataset = TensorDataset(\n",
        "    test_encodings['input_ids'],\n",
        "    test_encodings['attention_mask'],\n",
        "    torch.tensor(test_df['label'].values).long()\n",
        ")"
      ]
    },
    {
      "cell_type": "markdown",
      "metadata": {
        "id": "JvnJPVeI_1iB"
      },
      "source": [
        "# Architecture\n",
        "\n",
        "The architecture consists of two main parts:\n",
        "1. first, the pre-trained DistilBERT encodes input text into contextual embeddings;\n",
        "2. second, a multi-layer perceptron (MLP) classifier takes the pooled embeddings and predicts whether a statement is True or False.\n",
        "\n",
        "The model applies mean pooling over the token embeddings to obtain a single vector representation for each input, effectively summarizing the information while ignoring padding tokens.\n",
        "Additionally, the MLP layers include GELU activations and dropout to improve model expressiveness and prevent overfitting, with all linear layers initialized using Xavier normalization for stable training."
      ]
    },
    {
      "cell_type": "code",
      "execution_count": 15,
      "metadata": {
        "id": "snXMNzEG6lco"
      },
      "outputs": [],
      "source": [
        "import torch\n",
        "import torch.nn as nn\n",
        "from transformers import DistilBertModel\n",
        "from torch.utils.data import DataLoader, RandomSampler, SequentialSampler\n",
        "from transformers import get_linear_schedule_with_warmup\n",
        "from torch.optim import AdamW"
      ]
    },
    {
      "cell_type": "code",
      "execution_count": 16,
      "metadata": {
        "id": "4MJuhQ_d_yTC"
      },
      "outputs": [],
      "source": [
        "# Define the model: DistilBERT + MLP (Multi-Layer Perceptron)\n",
        "class DistilBERTMLPClassifier(nn.Module):\n",
        "    def __init__(self):\n",
        "        super().__init__()\n",
        "        # Load the pre-trained DistilBERT model\n",
        "        self.distilbert = DistilBertModel.from_pretrained(\"distilbert-base-uncased\")\n",
        "\n",
        "        # Define the MLP classifier on top of DistilBERT's output\n",
        "        self.mlp = nn.Sequential(\n",
        "            nn.Linear(768, 512),\n",
        "            nn.GELU(),             # GELU activation function\n",
        "            nn.Dropout(0.4),\n",
        "\n",
        "            nn.Linear(512, 256),\n",
        "            nn.GELU(),\n",
        "            nn.Dropout(0.4),\n",
        "\n",
        "            nn.Linear(256, 64),\n",
        "            nn.GELU(),\n",
        "            nn.Dropout(0.4),\n",
        "\n",
        "            nn.Linear(64, 2)\n",
        "        )\n",
        "\n",
        "        # Initialize weights of the MLP\n",
        "        self._init_weights()\n",
        "\n",
        "    # Function to initialize the MLP weights\n",
        "    def _init_weights(self):\n",
        "        for layer in self.mlp:\n",
        "            if isinstance(layer, nn.Linear):\n",
        "                # Xavier normal initialization for weights\n",
        "                nn.init.xavier_normal_(layer.weight)\n",
        "                # Initialize bias to 0\n",
        "                if layer.bias is not None:\n",
        "                    nn.init.constant_(layer.bias, 0)\n",
        "\n",
        "    # Forward pass\n",
        "    def forward(self, input_ids, attention_mask):\n",
        "        # Pass through DistilBERT\n",
        "        outputs = self.distilbert(input_ids=input_ids, attention_mask=attention_mask)\n",
        "        last_hidden_state = outputs.last_hidden_state\n",
        "\n",
        "        # Mean pooling over all tokens\n",
        "        mask = attention_mask.unsqueeze(-1)\n",
        "        masked_hidden = last_hidden_state * mask\n",
        "        pooled = masked_hidden.sum(dim=1) / mask.sum(dim=1)\n",
        "\n",
        "        # Pass the pooled output through the MLP for classification\n",
        "        return self.mlp(pooled)\n"
      ]
    },
    {
      "cell_type": "code",
      "execution_count": 17,
      "metadata": {
        "colab": {
          "base_uri": "https://localhost:8080/"
        },
        "id": "bXDiBiFEvycb",
        "outputId": "828e589e-6e28-4217-8e0a-400737d6f67b"
      },
      "outputs": [
        {
          "name": "stdout",
          "output_type": "stream",
          "text": [
            "Using device: cuda\n"
          ]
        }
      ],
      "source": [
        "# Define the device\n",
        "device = torch.device(\"cuda\" if torch.cuda.is_available() else \"cpu\")\n",
        "print(f'Using device: {device}')"
      ]
    },
    {
      "cell_type": "markdown",
      "metadata": {
        "id": "o7aGF851_4YI"
      },
      "source": [
        "We specify the main hyperparameters (batch size, number of epochs, weight decay, and warmup steps).\n",
        "\n",
        "Then, class weights are computed using the inverse of class frequency to address the mild imbalance in the dataset. Since the model could otherwise be biased toward the more frequent class(True), assigning higher weights to underrepresented classes(False) ensures that errors on these samples contribute more significantly to the loss. This approach encourages the model to pay attention to all classes during training, improving its ability to correctly classify minority examples without needing to oversample or undersample the data.\n",
        "\n",
        "DataLoaders are created for training, validation, and testing."
      ]
    },
    {
      "cell_type": "code",
      "execution_count": 18,
      "metadata": {
        "id": "dylTOgqmu7cO"
      },
      "outputs": [],
      "source": [
        "# Configuration training\n",
        "BATCH_SIZE = 16\n",
        "EPOCHS = 6\n",
        "WEIGHT_DECAY = 0.05\n",
        "WARMUP_STEPS = 100\n",
        "\n",
        "# Compute class weights based on label distribution\n",
        "class_counts = train_df['label'].value_counts().sort_index() # Count the number of samples per class\n",
        "# Inverse frequency == less represented classes receive higher weights\n",
        "class_weights = torch.tensor((1. / class_counts).values, dtype=torch.float32).to(device)\n"
      ]
    },
    {
      "cell_type": "code",
      "execution_count": 19,
      "metadata": {
        "id": "j8CGXCN5u9By"
      },
      "outputs": [],
      "source": [
        "# Dataloaders\n",
        "from torch.utils.data import RandomSampler, SequentialSampler\n",
        "\n",
        "train_dataloader = DataLoader(\n",
        "    train_dataset,\n",
        "    sampler=RandomSampler(train_dataset),\n",
        "    batch_size=BATCH_SIZE\n",
        ")\n",
        "\n",
        "val_dataloader = DataLoader(\n",
        "    val_dataset,\n",
        "    sampler=SequentialSampler(val_dataset),\n",
        "    batch_size=BATCH_SIZE\n",
        ")\n",
        "\n",
        "test_dataloader = DataLoader(\n",
        "    test_dataset,\n",
        "    sampler=SequentialSampler(test_dataset),\n",
        "    batch_size=BATCH_SIZE\n",
        ")\n",
        "\n",
        "\n",
        "# Inizializzazione modello\n",
        "model = DistilBERTMLPClassifier().to(device)"
      ]
    },
    {
      "cell_type": "markdown",
      "metadata": {
        "id": "IMzRyC9fA7Iz"
      },
      "source": [
        "We implement a gradual unfreezing strategy during fine-tuning, adapting DistilBERT incrementally.\n",
        "\n",
        "The idea is to first train only the higher layers (the MLP and the top DistilBERT layers), which are closest to the final task, and then progressively unfreeze the deeper layers. This approach allows the model to preserve the general knowledge learned during pre-training while gradually adapting to the specific task.\n",
        "\n",
        "As a result, weight updates are more stable and controlled, reducing the risk of overfitting, and enabling the model to classify statements as true or false even with limited and slightly imbalanced data."
      ]
    },
    {
      "cell_type": "code",
      "execution_count": 20,
      "metadata": {
        "id": "fi9sWjZZvBTe"
      },
      "outputs": [],
      "source": [
        "# Gradual unfreezing strategy\n",
        "def set_requires_grad(model, epoch):\n",
        "    # Phase 0: only train the MLP classifier\n",
        "    if epoch == 0:\n",
        "        for param in model.distilbert.parameters():\n",
        "            param.requires_grad = False   # Freeze all DistilBERT parameters\n",
        "        for param in model.mlp.parameters():\n",
        "            param.requires_grad = True    # Train only the MLP head\n",
        "\n",
        "    # Phase 1: unfreeze layer 5\n",
        "    elif epoch == 1:\n",
        "        for param in model.distilbert.transformer.layer[5].parameters():\n",
        "            param.requires_grad = True    # Unfreeze the last transformer layer\n",
        "        for param in model.distilbert.transformer.layer[:5].parameters():\n",
        "            param.requires_grad = False   # Keep the other layers frozen\n",
        "        for param in model.mlp.parameters():\n",
        "            param.requires_grad = True    # Keep training the MLP head\n",
        "\n",
        "    # Phase 2: unfreeze layer 4\n",
        "    elif epoch == 2:\n",
        "        for param in model.distilbert.transformer.layer[4].parameters():\n",
        "            param.requires_grad = True    # Unfreeze the second-to-last transformer layer\n",
        "        for param in model.distilbert.transformer.layer[:4].parameters():\n",
        "            param.requires_grad = False   # Keep lower layers frozen (0–3)\n",
        "        for param in model.mlp.parameters():\n",
        "            param.requires_grad = True\n",
        "\n",
        "    # Phase 3: unfreeze layer 3\n",
        "    elif epoch == 3:\n",
        "        for param in model.distilbert.transformer.layer[3].parameters():\n",
        "            param.requires_grad = True    # Unfreeze layer 3\n",
        "        for param in model.distilbert.transformer.layer[:3].parameters():\n",
        "            param.requires_grad = False   # Keep the first 3 layers frozen\n",
        "        for param in model.mlp.parameters():\n",
        "            param.requires_grad = True\n",
        "\n",
        "    # Phase 4+: unfreeze everything\n",
        "    else:\n",
        "        for param in model.parameters():\n",
        "            param.requires_grad = True    # Train the entire model\n",
        "\n"
      ]
    },
    {
      "cell_type": "markdown",
      "metadata": {
        "id": "BpRxX6XpF4zr"
      },
      "source": [
        "The optimizer, learning rate scheduler, and loss function are configured for fine-tuning the model. The AdamW optimizer assigns different learning rates to various DistilBERT layers and the MLP classifier, allowing the deeper layers to adapt slowly while the task-specific layers update more quickly.\n",
        "\n",
        "The learning rate scheduler uses cosine annealing with periodic restarts to stabilize and improve convergence during training. Finally, the weighted Cross-Entropy loss accounts for class imbalance, giving more importance to underrepresented examples and ensuring more balanced learning."
      ]
    },
    {
      "cell_type": "code",
      "execution_count": 21,
      "metadata": {
        "id": "Nh8iPWJUpd38"
      },
      "outputs": [],
      "source": [
        "# Optimizer with layer-wise learning rates\n",
        "optimizer = AdamW([\n",
        "    # Layers 0-1 of DistilBERT: very small learning rate for stable fine-tuning\n",
        "    {'params': [p for n, p in model.distilbert.named_parameters() if \"layer.0\" in n or \"layer.1\" in n], 'lr': 1e-5},\n",
        "    # Layers 2-3: slightly higher learning rate\n",
        "    {'params': [p for n, p in model.distilbert.named_parameters() if \"layer.2\" in n or \"layer.3\" in n], 'lr': 1.5e-5},\n",
        "    # Layers 4-5: higher learning rate, closer to task-specific adaptation\n",
        "    {'params': [p for n, p in model.distilbert.named_parameters() if \"layer.4\" in n or \"layer.5\" in n], 'lr': 2e-5},\n",
        "    # MLP classifier: highest learning rate as it is trained from scratch\n",
        "    {'params': model.mlp.parameters(), 'lr': 2e-5}\n",
        "], weight_decay=WEIGHT_DECAY, eps=1e-8)\n",
        "\n",
        "# Cosine annealing scheduler with warm restarts\n",
        "scheduler = torch.optim.lr_scheduler.CosineAnnealingWarmRestarts(optimizer, T_0=2, T_mult=1)\n",
        "\n",
        "# Weighted cross-entropy loss\n",
        "criterion = nn.CrossEntropyLoss(weight=class_weights)\n"
      ]
    },
    {
      "cell_type": "code",
      "execution_count": null,
      "metadata": {
        "id": "ZdDKE0AtvD7N"
      },
      "outputs": [],
      "source": [
        "# Training loop \n",
        "from sklearn.metrics import f1_score, roc_auc_score\n",
        "import copy\n",
        "\n",
        "# 9. Training loop\n",
        "def train_model():\n",
        "    best_val_accuracy = 0\n",
        "    best_model_state = None\n",
        "    early_stop_counter = 0\n",
        "    PATIENCE = 3\n",
        "    training_stats = []\n",
        "\n",
        "    for epoch in range(EPOCHS):\n",
        "        print(f\"\\nEpoch {epoch + 1}/{EPOCHS}\")\n",
        "        print(\"-\" * 50)\n",
        "        set_requires_grad(model, epoch)\n",
        "        model.train()\n",
        "        total_train_loss, total_train_correct = 0, 0\n",
        "\n",
        "        for step, batch in enumerate(train_dataloader):\n",
        "            input_ids, attention_mask, labels = [b.to(device) for b in batch]\n",
        "            model.zero_grad()\n",
        "            outputs = model(input_ids, attention_mask)\n",
        "            loss = criterion(outputs, labels)\n",
        "            loss.backward()\n",
        "            torch.nn.utils.clip_grad_norm_(model.parameters(), 1.0)\n",
        "            optimizer.step()\n",
        "            scheduler.step(epoch + step / len(train_dataloader))\n",
        "\n",
        "            total_train_loss += loss.item()\n",
        "            preds = torch.argmax(outputs, dim=1)\n",
        "            total_train_correct += (preds == labels).sum().item()\n",
        "\n",
        "        avg_train_loss = total_train_loss / len(train_dataloader)\n",
        "        train_accuracy = total_train_correct / len(train_dataset)\n",
        "\n",
        "        # Validation\n",
        "        model.eval()\n",
        "        total_val_loss, total_val_correct = 0, 0\n",
        "        all_preds, all_labels = [], []\n",
        "\n",
        "        for batch in val_dataloader:\n",
        "            input_ids, attention_mask, labels = [b.to(device) for b in batch]\n",
        "            with torch.no_grad():\n",
        "                outputs = model(input_ids, attention_mask)\n",
        "                loss = criterion(outputs, labels)\n",
        "                total_val_loss += loss.item()\n",
        "                preds = torch.argmax(outputs, dim=1)\n",
        "                total_val_correct += (preds == labels).sum().item()\n",
        "                all_preds.extend(preds.cpu().numpy())\n",
        "                all_labels.extend(labels.cpu().numpy())\n",
        "\n",
        "        avg_val_loss = total_val_loss / len(val_dataloader)\n",
        "        val_accuracy = total_val_correct / len(val_dataset)\n",
        "        val_f1 = f1_score(all_labels, all_preds)\n",
        "        val_roc_auc = roc_auc_score(all_labels, all_preds)\n",
        "\n",
        "        training_stats.append({\n",
        "            'epoch': epoch + 1,\n",
        "            'train_loss': avg_train_loss,\n",
        "            'train_acc': train_accuracy,\n",
        "            'val_loss': avg_val_loss,\n",
        "            'val_acc': val_accuracy,\n",
        "            'val_f1': val_f1,\n",
        "            'val_roc_auc': val_roc_auc\n",
        "        })\n",
        "\n",
        "        print(f\"Train Loss: {avg_train_loss:.4f}, Train Acc: {train_accuracy:.4f}\")\n",
        "        print(f\"Val Loss: {avg_val_loss:.4f}, Val Acc: {val_accuracy:.4f}, Val F1: {val_f1:.4f}, Val ROC-AUC: {val_roc_auc:.4f}\")\n",
        "\n",
        "        if val_accuracy > best_val_accuracy:\n",
        "            best_val_accuracy = val_accuracy\n",
        "            best_model_state = copy.deepcopy(model.state_dict())\n",
        "            early_stop_counter = 0\n",
        "            torch.save(model.state_dict(), 'best_model.pt')\n",
        "        else:\n",
        "            early_stop_counter += 1\n",
        "            if early_stop_counter >= PATIENCE:\n",
        "                print(f\"Early stopping at epoch {epoch + 1}\")\n",
        "                break\n",
        "\n",
        "    model.load_state_dict(best_model_state)\n",
        "    return model, training_stats"
      ]
    },
    {
      "cell_type": "code",
      "execution_count": null,
      "metadata": {
        "colab": {
          "base_uri": "https://localhost:8080/"
        },
        "id": "x1y7megzvHqh",
        "outputId": "d47be05c-cd31-41ac-fa3a-294e5328bac2"
      },
      "outputs": [
        {
          "name": "stdout",
          "output_type": "stream",
          "text": [
            "\n",
            "Epoch 1/6\n",
            "--------------------------------------------------\n",
            "Train Loss: 0.6967, Train Acc: 0.5146\n",
            "Val Loss: 0.6845, Val Acc: 0.5880, Val F1: 0.6765, Val ROC-AUC: 0.5779\n",
            "\n",
            "Epoch 2/6\n",
            "--------------------------------------------------\n",
            "Train Loss: 0.6853, Train Acc: 0.5437\n",
            "Val Loss: 0.6778, Val Acc: 0.6075, Val F1: 0.6500, Val ROC-AUC: 0.6035\n",
            "\n",
            "Epoch 3/6\n",
            "--------------------------------------------------\n",
            "Train Loss: 0.6688, Train Acc: 0.5912\n",
            "Val Loss: 0.6483, Val Acc: 0.6199, Val F1: 0.6121, Val ROC-AUC: 0.6218\n",
            "\n",
            "Epoch 4/6\n",
            "--------------------------------------------------\n",
            "Train Loss: 0.6510, Train Acc: 0.6192\n",
            "Val Loss: 0.6458, Val Acc: 0.6363, Val F1: 0.6405, Val ROC-AUC: 0.6369\n",
            "\n",
            "Epoch 5/6\n",
            "--------------------------------------------------\n",
            "Train Loss: 0.6438, Train Acc: 0.6308\n",
            "Val Loss: 0.6242, Val Acc: 0.6542, Val F1: 0.6547, Val ROC-AUC: 0.6552\n",
            "\n",
            "Epoch 6/6\n",
            "--------------------------------------------------\n",
            "Train Loss: 0.5904, Train Acc: 0.6834\n",
            "Val Loss: 0.6268, Val Acc: 0.6581, Val F1: 0.6672, Val ROC-AUC: 0.6581\n"
          ]
        }
      ],
      "source": [
        "trained_model, stats = train_model()"
      ]
    },
    {
      "cell_type": "markdown",
      "metadata": {},
      "source": [
        "We have progressive learning, with improvement in both train and validation accuracy, and does not show marked overfitting. The F1 and ROC-AUC metrics indicate that the model is improving in discrimination between classes."
      ]
    },
    {
      "cell_type": "markdown",
      "metadata": {},
      "source": [
        "# Evaluation"
      ]
    },
    {
      "cell_type": "code",
      "execution_count": null,
      "metadata": {
        "colab": {
          "base_uri": "https://localhost:8080/"
        },
        "id": "z4jXSuP0vJyL",
        "outputId": "27a854c3-befa-44f2-fc91-84a7f607a746"
      },
      "outputs": [
        {
          "name": "stdout",
          "output_type": "stream",
          "text": [
            "Test Accuracy: 0.6630, Test F1: 0.6987, Test ROC-AUC: 0.7092\n",
            "Confusion Matrix:\n",
            " [[345 208]\n",
            " [219 495]]\n",
            "Classification Report:\n",
            "               precision    recall  f1-score   support\n",
            "\n",
            "           0     0.6117    0.6239    0.6177       553\n",
            "           1     0.7041    0.6933    0.6987       714\n",
            "\n",
            "    accuracy                         0.6630      1267\n",
            "   macro avg     0.6579    0.6586    0.6582      1267\n",
            "weighted avg     0.6638    0.6630    0.6633      1267\n",
            "\n"
          ]
        }
      ],
      "source": [
        "from sklearn.metrics import confusion_matrix, classification_report, f1_score, roc_auc_score\n",
        "\n",
        "def evaluate_metrics(model, dataloader, device):\n",
        "    model.eval()\n",
        "    total_correct = 0\n",
        "    all_preds, all_labels, all_probs = [], [], []\n",
        "\n",
        "    with torch.no_grad():\n",
        "        for batch in dataloader:\n",
        "            input_ids, attention_mask, labels = [b.to(device) for b in batch]\n",
        "\n",
        "            outputs = model(input_ids, attention_mask)\n",
        "\n",
        "            # Probabilità per la classe positiva\n",
        "            probs = torch.softmax(outputs, dim=1)[:, 1]\n",
        "            preds = torch.argmax(outputs, dim=1)\n",
        "\n",
        "            total_correct += (preds == labels).sum().item()\n",
        "\n",
        "            all_probs.extend(probs.cpu().numpy())\n",
        "            all_preds.extend(preds.cpu().numpy())\n",
        "            all_labels.extend(labels.cpu().numpy())\n",
        "\n",
        "    # Metrics\n",
        "    accuracy = total_correct / len(dataloader.dataset)\n",
        "    f1 = f1_score(all_labels, all_preds)\n",
        "    roc_auc = roc_auc_score(all_labels, all_probs)\n",
        "    cm = confusion_matrix(all_labels, all_preds)\n",
        "    cr = classification_report(all_labels, all_preds, digits=4)\n",
        "\n",
        "    print(f\"Test Accuracy: {accuracy:.4f}, Test F1: {f1:.4f}, Test ROC-AUC: {roc_auc:.4f}\")\n",
        "    print(\"Confusion Matrix:\\n\", cm)\n",
        "    print(\"Classification Report:\\n\", cr)\n",
        "\n",
        "    return accuracy, f1, roc_auc, all_labels, all_probs\n",
        "\n",
        "test_accuracy, test_f1, test_roc_auc, all_labels, all_probs = evaluate_metrics(trained_model, test_dataloader, device)"
      ]
    },
    {
      "cell_type": "markdown",
      "metadata": {},
      "source": [
        "The model is balanced and stable, with good overall performance. The minority class (False) remains harder to recognize, but the F1-score still indicates decent discrimination."
      ]
    },
    {
      "cell_type": "markdown",
      "metadata": {},
      "source": [
        "We plot the ROC curve to evaluate the model's ability to discriminate between True and False classes."
      ]
    },
    {
      "cell_type": "code",
      "execution_count": 25,
      "metadata": {
        "id": "27thIdjY9Lzx"
      },
      "outputs": [],
      "source": [
        "from sklearn.metrics import roc_curve\n",
        "import matplotlib.pyplot as plt\n",
        "\n",
        "def plot_roc_curve(all_labels, all_probs, roc_auc):\n",
        "    fpr, tpr, _ = roc_curve(all_labels, all_probs)\n",
        "    plt.figure(figsize=(6,6))\n",
        "\n",
        "    plt.plot(fpr, tpr, color=\"darkorange\", lw=2, label=f\"ROC curve (AUC = {roc_auc:.4f})\")\n",
        "    plt.plot([0,1], [0,1], color=\"navy\", lw=2, linestyle=\"--\")\n",
        "    plt.xlabel(\"False Positive Rate\")\n",
        "    plt.ylabel(\"True Positive Rate\")\n",
        "    plt.title(\"Receiver Operating Characteristic (ROC)\")\n",
        "    plt.legend(loc=\"lower right\")\n",
        "    plt.grid(True)\n",
        "    plt.show()\n"
      ]
    },
    {
      "cell_type": "code",
      "execution_count": 26,
      "metadata": {
        "colab": {
          "base_uri": "https://localhost:8080/",
          "height": 564
        },
        "id": "qQvBYFUDitUm",
        "outputId": "f9140d54-7d4b-4210-bb3d-43c687b4e24f"
      },
      "outputs": [
        {
          "data": {
            "image/png": "[encoded data removed]",
            "text/plain": [
              "<Figure size 600x600 with 1 Axes>"
            ]
          },
          "metadata": {},
          "output_type": "display_data"
        }
      ],
      "source": [
        "plot_roc_curve(all_labels, all_probs, test_roc_auc)"
      ]
    },
    {
      "cell_type": "markdown",
      "metadata": {},
      "source": [
        "## Sample Prediction Analysis\n",
        "To better understand how the model works, let's select some examples from the test set and compare the predictions with real labels. For each example we report the predicted class and the associated probabilities, so as to see both the cases in which the model guesses and those in which it makes mistakes.\n",
        "This allows us to directly observe how the model handles ambiguous statements and how confident it is in its predictions."
      ]
    },
    {
      "cell_type": "code",
      "execution_count": 27,
      "metadata": {
        "colab": {
          "base_uri": "https://localhost:8080/"
        },
        "id": "cfc778ca",
        "outputId": "592569b8-69a5-4720-a80b-1765f41320be"
      },
      "outputs": [
        {
          "name": "stdout",
          "output_type": "stream",
          "text": [
            "Sample Predictions:\n",
            "Text: Building a wall on the U.S.-Mexico border will take literally years. immigration rick-perry Governor...\n",
            "Actual Label: 1, Predicted Label: 0, Probabilities: [0.78078926 0.21921071]\n",
            "--------------------\n",
            "Text: Over the past five years the federal government has paid out $601 million in retirement and disabili...\n",
            "Actual Label: 1, Predicted Label: 1, Probabilities: [0.37130848 0.6286915 ]\n",
            "--------------------\n",
            "Text: We know there are more Democrats in Georgia than Republicans. We know that for a fact. elections mik...\n",
            "Actual Label: 0, Predicted Label: 1, Probabilities: [0.27737668 0.7226233 ]\n",
            "--------------------\n",
            "Text: Says the unemployment rate for college graduates is 4.4 percent and over 10 percent for noncollege-e...\n",
            "Actual Label: 1, Predicted Label: 1, Probabilities: [0.19836557 0.80163443]\n",
            "--------------------\n",
            "Text: There have not been any public safety issues in cities that allow transgender people to use the bath...\n",
            "Actual Label: 1, Predicted Label: 0, Probabilities: [0.5630911  0.43690893]\n",
            "--------------------\n"
          ]
        }
      ],
      "source": [
        "def predict_sample(model, tokenizer, text, device):\n",
        "    model.eval()\n",
        "    encodings = tokenizer.encode_plus(\n",
        "        text,\n",
        "        max_length=256,\n",
        "        padding='max_length',\n",
        "        truncation=True,\n",
        "        return_attention_mask=True,\n",
        "        return_tensors='pt'\n",
        "    )\n",
        "    input_ids = encodings['input_ids'].to(device)\n",
        "    attention_mask = encodings['attention_mask'].to(device)\n",
        "\n",
        "    with torch.no_grad():\n",
        "        outputs = model(input_ids, attention_mask)\n",
        "        probs = torch.softmax(outputs, dim=1)\n",
        "        predicted_class = torch.argmax(probs, dim=1).item()\n",
        "        return predicted_class, probs.squeeze().cpu().numpy()\n",
        "\n",
        "# Get some sample texts from the test set\n",
        "sample_indices = [0, 5, 10, 15, 20]\n",
        "sample_texts = test_df.iloc[sample_indices]['combined_text'].tolist()\n",
        "sample_labels = test_df.iloc[sample_indices]['label'].tolist()\n",
        "\n",
        "print(\"Sample Predictions:\")\n",
        "for i, text in enumerate(sample_texts):\n",
        "    predicted_label, probabilities = predict_sample(trained_model, tokenizer, text, device)\n",
        "    print(f\"Text: {text[:100]}...\")\n",
        "    print(f\"Actual Label: {sample_labels[i]}, Predicted Label: {predicted_label}, Probabilities: {probabilities}\")\n",
        "    print(\"-\" * 20)"
      ]
    }
  ],
  "metadata": {
    "accelerator": "GPU",
    "colab": {
      "gpuType": "T4",
      "provenance": []
    },
    "kernelspec": {
      "display_name": "Python 3",
      "name": "python3"
    },
    "language_info": {
      "codemirror_mode": {
        "name": "ipython",
        "version": 3
      },
      "file_extension": ".py",
      "mimetype": "text/x-python",
      "name": "python",
      "nbconvert_exporter": "python",
      "pygments_lexer": "ipython3",
      "version": "3.12.2"
    }
  },
  "nbformat": 4,
  "nbformat_minor": 0
}
